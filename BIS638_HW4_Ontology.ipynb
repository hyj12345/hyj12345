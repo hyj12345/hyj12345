{
  "nbformat": 4,
  "nbformat_minor": 0,
  "metadata": {
    "colab": {
      "name": "BIS638_HW4_Ontology.ipynb",
      "provenance": [],
      "collapsed_sections": [],
      "include_colab_link": true
    },
    "kernelspec": {
      "name": "python3",
      "display_name": "Python 3"
    }
  },
  "cells": [
    {
      "cell_type": "markdown",
      "metadata": {
        "id": "view-in-github",
        "colab_type": "text"
      },
      "source": [
        "<a href=\"https://colab.research.google.com/github/hyj12345/hyj12345/blob/main/BIS638_HW4_Ontology.ipynb\" target=\"_parent\"><img src=\"https://colab.research.google.com/assets/colab-badge.svg\" alt=\"Open In Colab\"/></a>"
      ]
    },
    {
      "cell_type": "markdown",
      "metadata": {
        "id": "aysUIfYS2TbO"
      },
      "source": [
        "#**Homework 4** "
      ]
    },
    {
      "cell_type": "markdown",
      "metadata": {
        "id": "QDFcd_T6uhSL"
      },
      "source": [
        "## **1.Modify the retrieval code**"
      ]
    },
    {
      "cell_type": "code",
      "metadata": {
        "id": "D4cgTw0B3YLN",
        "colab": {
          "base_uri": "https://localhost:8080/"
        },
        "outputId": "6231f7b7-ed67-4d6a-82e9-76ea8669ea55"
      },
      "source": [
        "import requests\n",
        "import pandas as pd\n",
        "# search for DOID terms that have ICD9CM codes\n",
        "# api-endpoint \n",
        "URL = \"https://www.ebi.ac.uk/ols/api/search\"\n",
        "# param values here \n",
        "searchterm = 'ICD9CM'\n",
        "ont = \"doid\"\n",
        "rowmax = 500  # limit to 20 terms\n",
        "fieldlist = 'iri,label,obo_id'\n",
        "\n",
        "# defining a params dict for the parameters to be sent to the API \n",
        "PARAMS = {'q': searchterm, 'ontology': ont, 'rows': rowmax, 'fieldList': fieldlist}\n",
        "\n",
        "# sending get request and saving the response as response object \n",
        "r = requests.get(url=URL, params=PARAMS)\n",
        "\n",
        "# extracting data in json format \n",
        "data = r.json()\n",
        "print(data)\n",
        "#ontology_name: (doid)'obo_id': 'DOID:13575'  'label': 'non-renal secondary hyperparathyroidism'}\n",
        "irilist=[]\n",
        "lablelist=[]\n",
        "obidlist=[]\n",
        "for d in data['response']['docs']:\n",
        "  irilist.append(d['iri'])\n",
        "  lablelist.append(d['label'])\n",
        "  obidlist.append(d['obo_id'].replace('DOID:', ''))\n",
        "\n",
        "data1 = {'iri': irilist,'DOID':obidlist,'label': lablelist}\n",
        "df1 = pd.DataFrame(data1)\n",
        "\n"
      ],
      "execution_count": 5,
      "outputs": [
        {
          "output_type": "stream",
          "name": "stdout",
          "text": [
            "{'responseHeader': {'status': 0, 'QTime': 32, 'params': {'facet.field': ['ontology_name', 'ontology_prefix', 'type', 'subset', 'is_defining_ontology', 'is_obsolete'], 'hl': 'true', 'fl': 'iri,label,obo_id', 'start': '0', 'fq': ['ontology_name: (doid)', 'is_obsolete:false'], 'rows': '500', 'hl.simple.pre': '<b>', 'bq': 'type:ontology^10.0 is_defining_ontology:true^100 label_s:\"icd9cm\"^5 synonym_s:\"icd9cm\"^3 annotations_trimmed:\"icd9cm\"', 'q': 'ICD9CM', 'defType': 'edismax', 'hl.simple.post': '</b>', 'qf': 'label^5 synonym^3 description short_form^2 obo_id^2 annotations logical_description iri', 'hl.fl': ['label', 'synonym', 'definition'], 'facet': 'true', 'wt': 'json'}}, 'response': {'numFound': 2113, 'start': 0, 'docs': [{'iri': 'http://purl.obolibrary.org/obo/DOID_13575', 'obo_id': 'DOID:13575', 'label': 'non-renal secondary hyperparathyroidism'}, {'iri': 'http://purl.obolibrary.org/obo/DOID_9754', 'obo_id': 'DOID:9754', 'label': 'ganglion or cyst of synovium/tendon/bursa'}, {'iri': 'http://purl.obolibrary.org/obo/DOID_11283', 'obo_id': 'DOID:11283', 'label': 'peripheral scars of retina'}, {'iri': 'http://purl.obolibrary.org/obo/DOID_11129', 'obo_id': 'DOID:11129', 'label': 'dislocation of ear ossicle'}, {'iri': 'http://purl.obolibrary.org/obo/DOID_8646', 'obo_id': 'DOID:8646', 'label': 'substance-induced psychosis'}, {'iri': 'http://purl.obolibrary.org/obo/DOID_13629', 'obo_id': 'DOID:13629', 'label': 'dentine erosion'}, {'iri': 'http://purl.obolibrary.org/obo/DOID_9868', 'obo_id': 'DOID:9868', 'label': 'intestinal disaccharidase deficiency'}, {'iri': 'http://purl.obolibrary.org/obo/DOID_13658', 'obo_id': 'DOID:13658', 'label': 'infective urethral stricture'}, {'iri': 'http://purl.obolibrary.org/obo/DOID_561', 'obo_id': 'DOID:561', 'label': 'trigeminal nerve disease'}, {'iri': 'http://purl.obolibrary.org/obo/DOID_251', 'obo_id': 'DOID:251', 'label': 'alcohol-induced mental disorder'}, {'iri': 'http://purl.obolibrary.org/obo/DOID_1829', 'obo_id': 'DOID:1829', 'label': 'urethral stricture'}, {'iri': 'http://purl.obolibrary.org/obo/DOID_12475', 'obo_id': 'DOID:12475', 'label': 'pes anserinus tendinitis or bursitis'}, {'iri': 'http://purl.obolibrary.org/obo/DOID_11184', 'obo_id': 'DOID:11184', 'label': 'acute conjunctivitis'}, {'iri': 'http://purl.obolibrary.org/obo/DOID_1203', 'obo_id': 'DOID:1203', 'label': 'drug-induced mental disorder'}, {'iri': 'http://purl.obolibrary.org/obo/DOID_14140', 'obo_id': 'DOID:14140', 'label': 'pulp erosion'}, {'iri': 'http://purl.obolibrary.org/obo/DOID_312', 'obo_id': 'DOID:312', 'label': 'tenosynovitis of foot and ankle'}, {'iri': 'http://purl.obolibrary.org/obo/DOID_14252', 'obo_id': 'DOID:14252', 'label': 'dystrophies primarily involving the retinal pigment epithelium'}, {'iri': 'http://purl.obolibrary.org/obo/DOID_14253', 'obo_id': 'DOID:14253', 'label': 'retinal dystrophy in systemic or cerebroretinal lipidoses'}, {'iri': 'http://purl.obolibrary.org/obo/DOID_14559', 'obo_id': 'DOID:14559', 'label': 'anaerobic meningitis'}, {'iri': 'http://purl.obolibrary.org/obo/DOID_13239', 'obo_id': 'DOID:13239', 'label': 'internal pathological resorption'}, {'iri': 'http://purl.obolibrary.org/obo/DOID_9459', 'obo_id': 'DOID:9459', 'label': 'isthmus cancer'}, {'iri': 'http://purl.obolibrary.org/obo/DOID_9407', 'obo_id': 'DOID:9407', 'label': 'strictly posterior acute myocardial infarction'}, {'iri': 'http://purl.obolibrary.org/obo/DOID_11518', 'obo_id': 'DOID:11518', 'label': 'abnormal pupillary function'}, {'iri': 'http://purl.obolibrary.org/obo/DOID_10266', 'obo_id': 'DOID:10266', 'label': 'subendocardial infarction acute myocardial infarction'}, {'iri': 'http://purl.obolibrary.org/obo/DOID_5129', 'obo_id': 'DOID:5129', 'label': 'simple partial epilepsy'}, {'iri': 'http://purl.obolibrary.org/obo/DOID_10648', 'obo_id': 'DOID:10648', 'label': 'acute inferoposterior infarction'}, {'iri': 'http://purl.obolibrary.org/obo/DOID_10649', 'obo_id': 'DOID:10649', 'label': 'acute inferolateral myocardial infarction'}, {'iri': 'http://purl.obolibrary.org/obo/DOID_2497', 'obo_id': 'DOID:2497', 'label': 'enamel erosion'}, {'iri': 'http://purl.obolibrary.org/obo/DOID_1159', 'obo_id': 'DOID:1159', 'label': 'functional gastric disease'}, {'iri': 'http://purl.obolibrary.org/obo/DOID_2088', 'obo_id': 'DOID:2088', 'label': 'outlet dysfunction constipation'}, {'iri': 'http://purl.obolibrary.org/obo/DOID_3508', 'obo_id': 'DOID:3508', 'label': 'stricture or kinking of ureter'}, {'iri': 'http://purl.obolibrary.org/obo/DOID_11786', 'obo_id': 'DOID:11786', 'label': 'splenic sequestration'}, {'iri': 'http://purl.obolibrary.org/obo/DOID_10175', 'obo_id': 'DOID:10175', 'label': 'optic papillitis'}, {'iri': 'http://purl.obolibrary.org/obo/DOID_13112', 'obo_id': 'DOID:13112', 'label': 'mechanical entropion'}, {'iri': 'http://purl.obolibrary.org/obo/DOID_13113', 'obo_id': 'DOID:13113', 'label': 'cicatricial entropion'}, {'iri': 'http://purl.obolibrary.org/obo/DOID_13121', 'obo_id': 'DOID:13121', 'label': 'deficiency anemia'}, {'iri': 'http://purl.obolibrary.org/obo/DOID_13127', 'obo_id': 'DOID:13127', 'label': 'gonococcal spondylitis'}, {'iri': 'http://purl.obolibrary.org/obo/DOID_13135', 'obo_id': 'DOID:13135', 'label': 'exophthalmic ophthalmoplegia'}, {'iri': 'http://purl.obolibrary.org/obo/DOID_13143', 'obo_id': 'DOID:13143', 'label': 'benign secondary hypertension'}, {'iri': 'http://purl.obolibrary.org/obo/DOID_9384', 'obo_id': 'DOID:9384', 'label': 'gonococcal iridocyclitis'}, {'iri': 'http://purl.obolibrary.org/obo/DOID_9341', 'obo_id': 'DOID:9341', 'label': 'urethral diverticulum'}, {'iri': 'http://purl.obolibrary.org/obo/DOID_9336', 'obo_id': 'DOID:9336', 'label': 'bestiality'}, {'iri': 'http://purl.obolibrary.org/obo/DOID_9339', 'obo_id': 'DOID:9339', 'label': 'urethral false passage'}, {'iri': 'http://purl.obolibrary.org/obo/DOID_9306', 'obo_id': 'DOID:9306', 'label': 'mechanical strabismus'}, {'iri': 'http://purl.obolibrary.org/obo/DOID_13507', 'obo_id': 'DOID:13507', 'label': 'trigonitis'}, {'iri': 'http://purl.obolibrary.org/obo/DOID_13520', 'obo_id': 'DOID:13520', 'label': 'neonatal infective mastitis'}, {'iri': 'http://purl.obolibrary.org/obo/DOID_12108', 'obo_id': 'DOID:12108', 'label': 'bullous retinoschisis'}, {'iri': 'http://purl.obolibrary.org/obo/DOID_13446', 'obo_id': 'DOID:13446', 'label': 'basilar artery occlusion'}, {'iri': 'http://purl.obolibrary.org/obo/DOID_12125', 'obo_id': 'DOID:12125', 'label': 'neurotrophic keratoconjunctivitis'}, {'iri': 'http://purl.obolibrary.org/obo/DOID_12145', 'obo_id': 'DOID:12145', 'label': 'detrusor sphincter dyssynergia'}, {'iri': 'http://purl.obolibrary.org/obo/DOID_13498', 'obo_id': 'DOID:13498', 'label': 'urethral syndrome'}, {'iri': 'http://purl.obolibrary.org/obo/DOID_12167', 'obo_id': 'DOID:12167', 'label': 'secondary vitreoretinal degeneration'}, {'iri': 'http://purl.obolibrary.org/obo/DOID_12196', 'obo_id': 'DOID:12196', 'label': 'superficial keratitis'}, {'iri': 'http://purl.obolibrary.org/obo/DOID_9277', 'obo_id': 'DOID:9277', 'label': 'primary cerebellar degeneration'}, {'iri': 'http://purl.obolibrary.org/obo/DOID_13419', 'obo_id': 'DOID:13419', 'label': 'neurogenic bowel'}, {'iri': 'http://purl.obolibrary.org/obo/DOID_13329', 'obo_id': 'DOID:13329', 'label': 'toxic optic neuropathy'}, {'iri': 'http://purl.obolibrary.org/obo/DOID_13326', 'obo_id': 'DOID:13326', 'label': 'chronic follicular conjunctivitis'}, {'iri': 'http://purl.obolibrary.org/obo/DOID_13341', 'obo_id': 'DOID:13341', 'label': 'parasitic conjunctivitis'}, {'iri': 'http://purl.obolibrary.org/obo/DOID_13353', 'obo_id': 'DOID:13353', 'label': 'diffuse interstitial keratitis'}, {'iri': 'http://purl.obolibrary.org/obo/DOID_13356', 'obo_id': 'DOID:13356', 'label': 'senile ectropion'}, {'iri': 'http://purl.obolibrary.org/obo/DOID_12326', 'obo_id': 'DOID:12326', 'label': 'chronic pulmonary heart disease'}, {'iri': 'http://purl.obolibrary.org/obo/DOID_13656', 'obo_id': 'DOID:13656', 'label': 'gastrin secretion abnormality'}, {'iri': 'http://purl.obolibrary.org/obo/DOID_13653', 'obo_id': 'DOID:13653', 'label': 'stenosis of lacrimal punctum'}, {'iri': 'http://purl.obolibrary.org/obo/DOID_9843', 'obo_id': 'DOID:9843', 'label': 'monofixation syndrome'}, {'iri': 'http://purl.obolibrary.org/obo/DOID_8512', 'obo_id': 'DOID:8512', 'label': 'puerperal pulmonary embolism'}, {'iri': 'http://purl.obolibrary.org/obo/DOID_9841', 'obo_id': 'DOID:9841', 'label': 'hypotropia'}, {'iri': 'http://purl.obolibrary.org/obo/DOID_8516', 'obo_id': 'DOID:8516', 'label': 'pulmonary embolism and infarction'}, {'iri': 'http://purl.obolibrary.org/obo/DOID_8514', 'obo_id': 'DOID:8514', 'label': 'acute pulmonary heart disease'}, {'iri': 'http://purl.obolibrary.org/obo/DOID_8517', 'obo_id': 'DOID:8517', 'label': 'acute cor pulmonale'}, {'iri': 'http://purl.obolibrary.org/obo/DOID_12336', 'obo_id': 'DOID:12336', 'label': 'male infertility'}, {'iri': 'http://purl.obolibrary.org/obo/DOID_9858', 'obo_id': 'DOID:9858', 'label': 'deep keratitis'}, {'iri': 'http://purl.obolibrary.org/obo/DOID_12225', 'obo_id': 'DOID:12225', 'label': 'Plica syndrome'}, {'iri': 'http://purl.obolibrary.org/obo/DOID_8500', 'obo_id': 'DOID:8500', 'label': 'hereditary retinal dystrophy'}, {'iri': 'http://purl.obolibrary.org/obo/DOID_9839', 'obo_id': 'DOID:9839', 'label': 'accommodative esotropia'}, {'iri': 'http://purl.obolibrary.org/obo/DOID_9838', 'obo_id': 'DOID:9838', 'label': 'cyclotropia'}, {'iri': 'http://purl.obolibrary.org/obo/DOID_12257', 'obo_id': 'DOID:12257', 'label': 'medulloadrenal hyperfunction'}, {'iri': 'http://purl.obolibrary.org/obo/DOID_9811', 'obo_id': 'DOID:9811', 'label': 'partial circumpapillary choroid dystrophy'}, {'iri': 'http://purl.obolibrary.org/obo/DOID_13919', 'obo_id': 'DOID:13919', 'label': 'irregular astigmatism'}, {'iri': 'http://purl.obolibrary.org/obo/DOID_13943', 'obo_id': 'DOID:13943', 'label': 'acute gonococcal prostatitis'}, {'iri': 'http://purl.obolibrary.org/obo/DOID_9794', 'obo_id': 'DOID:9794', 'label': 'hereditary choroidal atrophy'}, {'iri': 'http://purl.obolibrary.org/obo/DOID_8464', 'obo_id': 'DOID:8464', 'label': 'flat retinoschisis'}, {'iri': 'http://purl.obolibrary.org/obo/DOID_9799', 'obo_id': 'DOID:9799', 'label': 'eye degenerative disease'}, {'iri': 'http://purl.obolibrary.org/obo/DOID_9771', 'obo_id': 'DOID:9771', 'label': 'transient neonatal thrombocytopenia'}, {'iri': 'http://purl.obolibrary.org/obo/DOID_9776', 'obo_id': 'DOID:9776', 'label': 'Senile atrophy of choroid'}, {'iri': 'http://purl.obolibrary.org/obo/DOID_9775', 'obo_id': 'DOID:9775', 'label': 'diastolic heart failure'}, {'iri': 'http://purl.obolibrary.org/obo/DOID_9779', 'obo_id': 'DOID:9779', 'label': 'bowel dysfunction'}, {'iri': 'http://purl.obolibrary.org/obo/DOID_8448', 'obo_id': 'DOID:8448', 'label': 'intestinal impaction'}, {'iri': 'http://purl.obolibrary.org/obo/DOID_13999', 'obo_id': 'DOID:13999', 'label': 'contact blepharoconjunctivitis'}, {'iri': 'http://purl.obolibrary.org/obo/DOID_12668', 'obo_id': 'DOID:12668', 'label': 'abnormal retinal correspondence'}, {'iri': 'http://purl.obolibrary.org/obo/DOID_9740', 'obo_id': 'DOID:9740', 'label': 'postcholecystectomy syndrome'}, {'iri': 'http://purl.obolibrary.org/obo/DOID_9743', 'obo_id': 'DOID:9743', 'label': 'diabetic neuropathy'}, {'iri': 'http://purl.obolibrary.org/obo/DOID_9741', 'obo_id': 'DOID:9741', 'label': 'biliary tract disease'}, {'iri': 'http://purl.obolibrary.org/obo/DOID_9722', 'obo_id': 'DOID:9722', 'label': 'ophthalmia nodosa'}, {'iri': 'http://purl.obolibrary.org/obo/DOID_9724', 'obo_id': 'DOID:9724', 'label': 'purulent endophthalmitis'}, {'iri': 'http://purl.obolibrary.org/obo/DOID_9709', 'obo_id': 'DOID:9709', 'label': 'rosacea conjunctivitis'}, {'iri': 'http://purl.obolibrary.org/obo/DOID_11269', 'obo_id': 'DOID:11269', 'label': 'chronic apical periodontitis'}, {'iri': 'http://purl.obolibrary.org/obo/DOID_9717', 'obo_id': 'DOID:9717', 'label': 'hydrops of gallbladder'}, {'iri': 'http://purl.obolibrary.org/obo/DOID_11295', 'obo_id': 'DOID:11295', 'label': 'retinal microaneurysm'}, {'iri': 'http://purl.obolibrary.org/obo/DOID_12072', 'obo_id': 'DOID:12072', 'label': 'pylorospasm'}, {'iri': 'http://purl.obolibrary.org/obo/DOID_9191', 'obo_id': 'DOID:9191', 'label': 'diabetic macular edema'}, {'iri': 'http://purl.obolibrary.org/obo/DOID_8696', 'obo_id': 'DOID:8696', 'label': 'subacute monocytic leukemia'}, {'iri': 'http://purl.obolibrary.org/obo/DOID_13732', 'obo_id': 'DOID:13732', 'label': 'panophthalmitis'}, {'iri': 'http://purl.obolibrary.org/obo/DOID_13731', 'obo_id': 'DOID:13731', 'label': 'malignant secondary hypertension'}, {'iri': 'http://purl.obolibrary.org/obo/DOID_8681', 'obo_id': 'DOID:8681', 'label': 'paraneoplastic polyneuropathy'}, {'iri': 'http://purl.obolibrary.org/obo/DOID_13756', 'obo_id': 'DOID:13756', 'label': 'epiphora due to insufficient drainage'}, {'iri': 'http://purl.obolibrary.org/obo/DOID_13789', 'obo_id': 'DOID:13789', 'label': 'staphyloma posticum'}, {'iri': 'http://purl.obolibrary.org/obo/DOID_13788', 'obo_id': 'DOID:13788', 'label': 'equatorial staphyloma'}, {'iri': 'http://purl.obolibrary.org/obo/DOID_9978', 'obo_id': 'DOID:9978', 'label': 'acute female pelvic peritonitis'}, {'iri': 'http://purl.obolibrary.org/obo/DOID_13676', 'obo_id': 'DOID:13676', 'label': 'posterior scleritis'}, {'iri': 'http://purl.obolibrary.org/obo/DOID_9945', 'obo_id': 'DOID:9945', 'label': 'constant exophthalmos'}, {'iri': 'http://purl.obolibrary.org/obo/DOID_9948', 'obo_id': 'DOID:9948', 'label': 'residual stage corticosteroid-induced glaucoma'}, {'iri': 'http://purl.obolibrary.org/obo/DOID_12359', 'obo_id': 'DOID:12359', 'label': 'endocrine exophthalmos'}, {'iri': 'http://purl.obolibrary.org/obo/DOID_11028', 'obo_id': 'DOID:11028', 'label': 'pseudopterygium'}, {'iri': 'http://purl.obolibrary.org/obo/DOID_13687', 'obo_id': 'DOID:13687', 'label': 'chronic duodenal ileus'}, {'iri': 'http://purl.obolibrary.org/obo/DOID_12355', 'obo_id': 'DOID:12355', 'label': 'prostatocystitis'}, {'iri': 'http://purl.obolibrary.org/obo/DOID_11032', 'obo_id': 'DOID:11032', 'label': 'secondary corneal edema'}, {'iri': 'http://purl.obolibrary.org/obo/DOID_12364', 'obo_id': 'DOID:12364', 'label': 'pulsating exophthalmos'}, {'iri': 'http://purl.obolibrary.org/obo/DOID_11033', 'obo_id': 'DOID:11033', 'label': 'idiopathic corneal edema'}, {'iri': 'http://purl.obolibrary.org/obo/DOID_12362', 'obo_id': 'DOID:12362', 'label': 'thyrotoxic exophthalmos'}, {'iri': 'http://purl.obolibrary.org/obo/DOID_11031', 'obo_id': 'DOID:11031', 'label': 'bullous keratopathy'}, {'iri': 'http://purl.obolibrary.org/obo/DOID_11034', 'obo_id': 'DOID:11034', 'label': 'contact lens corneal edema'}, {'iri': 'http://purl.obolibrary.org/obo/DOID_9937', 'obo_id': 'DOID:9937', 'label': 'chronic dacryocystitis'}, {'iri': 'http://purl.obolibrary.org/obo/DOID_9936', 'obo_id': 'DOID:9936', 'label': 'chronic canaliculitis'}, {'iri': 'http://purl.obolibrary.org/obo/DOID_9908', 'obo_id': 'DOID:9908', 'label': 'internal hordeolum'}, {'iri': 'http://purl.obolibrary.org/obo/DOID_12395', 'obo_id': 'DOID:12395', 'label': 'spastic entropion'}, {'iri': 'http://purl.obolibrary.org/obo/DOID_9911', 'obo_id': 'DOID:9911', 'label': 'infected hydrocele'}, {'iri': 'http://purl.obolibrary.org/obo/DOID_11086', 'obo_id': 'DOID:11086', 'label': 'chorioretinal scar'}, {'iri': 'http://purl.obolibrary.org/obo/DOID_8574', 'obo_id': 'DOID:8574', 'label': 'lichen disease'}, {'iri': 'http://purl.obolibrary.org/obo/DOID_9888', 'obo_id': 'DOID:9888', 'label': 'alternating esotropia'}, {'iri': 'http://purl.obolibrary.org/obo/DOID_13626', 'obo_id': 'DOID:13626', 'label': 'photokeratitis'}, {'iri': 'http://purl.obolibrary.org/obo/DOID_9893', 'obo_id': 'DOID:9893', 'label': 'periodontosis'}, {'iri': 'http://purl.obolibrary.org/obo/DOID_12304', 'obo_id': 'DOID:12304', 'label': 'conjunctival pigmentation'}, {'iri': 'http://purl.obolibrary.org/obo/DOID_13649', 'obo_id': 'DOID:13649', 'label': 'polyneuropathy in collagen vascular disease'}, {'iri': 'http://purl.obolibrary.org/obo/DOID_9877', 'obo_id': 'DOID:9877', 'label': 'urethral gland abscess'}, {'iri': 'http://purl.obolibrary.org/obo/DOID_13651', 'obo_id': 'DOID:13651', 'label': 'eversion of lacrimal punctum'}, {'iri': 'http://purl.obolibrary.org/obo/DOID_572', 'obo_id': 'DOID:572', 'label': 'mononeuritis of upper limb and mononeuritis multiplex'}, {'iri': 'http://purl.obolibrary.org/obo/DOID_571', 'obo_id': 'DOID:571', 'label': 'median neuropathy'}, {'iri': 'http://purl.obolibrary.org/obo/DOID_566', 'obo_id': 'DOID:566', 'label': 'labyrinthine dysfunction'}, {'iri': 'http://purl.obolibrary.org/obo/DOID_559', 'obo_id': 'DOID:559', 'label': 'acute pyelonephritis'}, {'iri': 'http://purl.obolibrary.org/obo/DOID_1979', 'obo_id': 'DOID:1979', 'label': 'focal chorioretinitis'}, {'iri': 'http://purl.obolibrary.org/obo/DOID_538', 'obo_id': 'DOID:538', 'label': 'internuclear ophthalmoplegia'}, {'iri': 'http://purl.obolibrary.org/obo/DOID_528', 'obo_id': 'DOID:528', 'label': 'hydrarthrosis'}, {'iri': 'http://purl.obolibrary.org/obo/DOID_14006', 'obo_id': 'DOID:14006', 'label': 'splenic artery aneurysm'}, {'iri': 'http://purl.obolibrary.org/obo/DOID_14000', 'obo_id': 'DOID:14000', 'label': 'rubeosis iridis'}, {'iri': 'http://purl.obolibrary.org/obo/DOID_14022', 'obo_id': 'DOID:14022', 'label': 'algoneurodystrophy'}, {'iri': 'http://purl.obolibrary.org/obo/DOID_14075', 'obo_id': 'DOID:14075', 'label': 'geniculate ganglionitis'}, {'iri': 'http://purl.obolibrary.org/obo/DOID_214', 'obo_id': 'DOID:214', 'label': 'teeth hard tissue disease'}, {'iri': 'http://purl.obolibrary.org/obo/DOID_1893', 'obo_id': 'DOID:1893', 'label': 'eczematous dermatitis of eyelid'}, {'iri': 'http://purl.obolibrary.org/obo/DOID_1869', 'obo_id': 'DOID:1869', 'label': 'chronic rheumatic pericarditis'}, {'iri': 'http://purl.obolibrary.org/obo/DOID_1822', 'obo_id': 'DOID:1822', 'label': 'secondary lacrimal atrophy'}, {'iri': 'http://purl.obolibrary.org/obo/DOID_1802', 'obo_id': 'DOID:1802', 'label': 'mononeuritis'}, {'iri': 'http://purl.obolibrary.org/obo/DOID_9698', 'obo_id': 'DOID:9698', 'label': 'gonococcal endophthalmia'}, {'iri': 'http://purl.obolibrary.org/obo/DOID_9697', 'obo_id': 'DOID:9697', 'label': 'gonococcal keratitis'}, {'iri': 'http://purl.obolibrary.org/obo/DOID_13825', 'obo_id': 'DOID:13825', 'label': 'squamous blepharitis'}, {'iri': 'http://purl.obolibrary.org/obo/DOID_13839', 'obo_id': 'DOID:13839', 'label': 'extrapyramidal and movement disease'}, {'iri': 'http://purl.obolibrary.org/obo/DOID_12528', 'obo_id': 'DOID:12528', 'label': 'lesion of sciatic nerve'}, {'iri': 'http://purl.obolibrary.org/obo/DOID_12527', 'obo_id': 'DOID:12527', 'label': 'common peroneal nerve lesion'}, {'iri': 'http://purl.obolibrary.org/obo/DOID_9651', 'obo_id': 'DOID:9651', 'label': 'systolic heart failure'}, {'iri': 'http://purl.obolibrary.org/obo/DOID_11217', 'obo_id': 'DOID:11217', 'label': 'chronic tympanitis'}, {'iri': 'http://purl.obolibrary.org/obo/DOID_12546', 'obo_id': 'DOID:12546', 'label': 'atrophic nonflaccid tympanic membrane'}, {'iri': 'http://purl.obolibrary.org/obo/DOID_9622', 'obo_id': 'DOID:9622', 'label': 'kidney hypertrophy'}, {'iri': 'http://purl.obolibrary.org/obo/DOID_9621', 'obo_id': 'DOID:9621', 'label': 'non-congenital cyst of kidney'}, {'iri': 'http://purl.obolibrary.org/obo/DOID_13794', 'obo_id': 'DOID:13794', 'label': 'anterior scleritis'}, {'iri': 'http://purl.obolibrary.org/obo/DOID_11130', 'obo_id': 'DOID:11130', 'label': 'secondary hypertension'}, {'iri': 'http://purl.obolibrary.org/obo/DOID_11177', 'obo_id': 'DOID:11177', 'label': 'total internal ophthalmoplegia'}, {'iri': 'http://purl.obolibrary.org/obo/DOID_11189', 'obo_id': 'DOID:11189', 'label': 'pulp degeneration'}, {'iri': 'http://purl.obolibrary.org/obo/DOID_1428', 'obo_id': 'DOID:1428', 'label': 'endocrine pancreas disease'}, {'iri': 'http://purl.obolibrary.org/obo/DOID_1436', 'obo_id': 'DOID:1436', 'label': 'corneal ectasia'}, {'iri': 'http://purl.obolibrary.org/obo/DOID_2743', 'obo_id': 'DOID:2743', 'label': 'pyeloureteritis cystica'}, {'iri': 'http://purl.obolibrary.org/obo/DOID_1399', 'obo_id': 'DOID:1399', 'label': 'primary lacrimal atrophy'}, {'iri': 'http://purl.obolibrary.org/obo/DOID_782', 'obo_id': 'DOID:782', 'label': 'renal infectious disease'}, {'iri': 'http://purl.obolibrary.org/obo/DOID_3951', 'obo_id': 'DOID:3951', 'label': 'acute myocarditis'}, {'iri': 'http://purl.obolibrary.org/obo/DOID_727', 'obo_id': 'DOID:727', 'label': 'premenstrual tension'}, {'iri': 'http://purl.obolibrary.org/obo/DOID_1227', 'obo_id': 'DOID:1227', 'label': 'neutropenia'}, {'iri': 'http://purl.obolibrary.org/obo/DOID_1237', 'obo_id': 'DOID:1237', 'label': 'corneal degeneration'}, {'iri': 'http://purl.obolibrary.org/obo/DOID_2537', 'obo_id': 'DOID:2537', 'label': 'inflammatory and toxic neuropathy'}, {'iri': 'http://purl.obolibrary.org/obo/DOID_1214', 'obo_id': 'DOID:1214', 'label': 'tympanosclerosis'}, {'iri': 'http://purl.obolibrary.org/obo/DOID_436', 'obo_id': 'DOID:436', 'label': 'posterior mediastinum cancer'}, {'iri': 'http://purl.obolibrary.org/obo/DOID_9140', 'obo_id': 'DOID:9140', 'label': 'xeroderma of eyelid'}, {'iri': 'http://purl.obolibrary.org/obo/DOID_14155', 'obo_id': 'DOID:14155', 'label': 'acute retrobulbar neuritis'}, {'iri': 'http://purl.obolibrary.org/obo/DOID_9076', 'obo_id': 'DOID:9076', 'label': 'discoid lupus erythematosus of eyelid'}, {'iri': 'http://purl.obolibrary.org/obo/DOID_14181', 'obo_id': 'DOID:14181', 'label': 'calcific tendinitis'}, {'iri': 'http://purl.obolibrary.org/obo/DOID_14184', 'obo_id': 'DOID:14184', 'label': 'polyneuropathy due to drug'}, {'iri': 'http://purl.obolibrary.org/obo/DOID_14192', 'obo_id': 'DOID:14192', 'label': 'bicipital tenosynovitis'}, {'iri': 'http://purl.obolibrary.org/obo/DOID_14199', 'obo_id': 'DOID:14199', 'label': 'posterior dislocation of lens'}, {'iri': 'http://purl.obolibrary.org/obo/DOID_1569', 'obo_id': 'DOID:1569', 'label': 'mechanical ectropion'}, {'iri': 'http://purl.obolibrary.org/obo/DOID_1571', 'obo_id': 'DOID:1571', 'label': 'spastic ectropion'}, {'iri': 'http://purl.obolibrary.org/obo/DOID_2879', 'obo_id': 'DOID:2879', 'label': 'nodular degeneration of cornea'}, {'iri': 'http://purl.obolibrary.org/obo/DOID_1529', 'obo_id': 'DOID:1529', 'label': 'penile disease'}, {'iri': 'http://purl.obolibrary.org/obo/DOID_979', 'obo_id': 'DOID:979', 'label': 'angioid streaks of choroid'}, {'iri': 'http://purl.obolibrary.org/obo/DOID_952', 'obo_id': 'DOID:952', 'label': 'acute dacryoadenitis'}, {'iri': 'http://purl.obolibrary.org/obo/DOID_949', 'obo_id': 'DOID:949', 'label': 'chronic dacryoadenitis'}, {'iri': 'http://purl.obolibrary.org/obo/DOID_981', 'obo_id': 'DOID:981', 'label': 'diffuse secondary choroid atrophy'}, {'iri': 'http://purl.obolibrary.org/obo/DOID_14353', 'obo_id': 'DOID:14353', 'label': 'acute thyroiditis'}, {'iri': 'http://purl.obolibrary.org/obo/DOID_13031', 'obo_id': 'DOID:13031', 'label': 'balanoposthitis'}, {'iri': 'http://purl.obolibrary.org/obo/DOID_13038', 'obo_id': 'DOID:13038', 'label': 'cicatricial lagophthalmos'}, {'iri': 'http://purl.obolibrary.org/obo/DOID_13037', 'obo_id': 'DOID:13037', 'label': 'mechanical lagophthalmos'}, {'iri': 'http://purl.obolibrary.org/obo/DOID_342', 'obo_id': 'DOID:342', 'label': 'subclavian artery aneurysm'}, {'iri': 'http://purl.obolibrary.org/obo/DOID_1713', 'obo_id': 'DOID:1713', 'label': 'benign shuddering attacks'}, {'iri': 'http://purl.obolibrary.org/obo/DOID_14233', 'obo_id': 'DOID:14233', 'label': 'orbital cyst'}, {'iri': 'http://purl.obolibrary.org/obo/DOID_14244', 'obo_id': 'DOID:14244', 'label': 'epiphora due to excess lacrimation'}, {'iri': 'http://purl.obolibrary.org/obo/DOID_1680', 'obo_id': 'DOID:1680', 'label': 'chronic cystitis'}, {'iri': 'http://purl.obolibrary.org/obo/DOID_6590', 'obo_id': 'DOID:6590', 'label': 'spondylitis'}, {'iri': 'http://purl.obolibrary.org/obo/DOID_10719', 'obo_id': 'DOID:10719', 'label': 'toxic diffuse goiter'}, {'iri': 'http://purl.obolibrary.org/obo/DOID_9540', 'obo_id': 'DOID:9540', 'label': 'vascular skin disease'}, {'iri': 'http://purl.obolibrary.org/obo/DOID_9512', 'obo_id': 'DOID:9512', 'label': 'simple chronic conjunctivitis'}, {'iri': 'http://purl.obolibrary.org/obo/DOID_14529', 'obo_id': 'DOID:14529', 'label': 'external pathological resorption'}, {'iri': 'http://purl.obolibrary.org/obo/DOID_13207', 'obo_id': 'DOID:13207', 'label': 'proliferative diabetic retinopathy'}, {'iri': 'http://purl.obolibrary.org/obo/DOID_14555', 'obo_id': 'DOID:14555', 'label': 'Foster-Kennedy syndrome'}, {'iri': 'http://purl.obolibrary.org/obo/DOID_9496', 'obo_id': 'DOID:9496', 'label': 'unilateral hypoactive labyrinth'}, {'iri': 'http://purl.obolibrary.org/obo/DOID_9483', 'obo_id': 'DOID:9483', 'label': 'ulcerative blepharitis'}, {'iri': 'http://purl.obolibrary.org/obo/DOID_9473', 'obo_id': 'DOID:9473', 'label': 'mononeuritis of lower limb'}, {'iri': 'http://purl.obolibrary.org/obo/DOID_9401', 'obo_id': 'DOID:9401', 'label': 'epididymo-orchitis'}, {'iri': 'http://purl.obolibrary.org/obo/DOID_9408', 'obo_id': 'DOID:9408', 'label': 'acute myocardial infarction'}, {'iri': 'http://purl.obolibrary.org/obo/DOID_14402', 'obo_id': 'DOID:14402', 'label': 'critical illness polyneuropathy'}, {'iri': 'http://purl.obolibrary.org/obo/DOID_12836', 'obo_id': 'DOID:12836', 'label': 'senile entropion'}, {'iri': 'http://purl.obolibrary.org/obo/DOID_11543', 'obo_id': 'DOID:11543', 'label': 'corneal abscess'}, {'iri': 'http://purl.obolibrary.org/obo/DOID_10211', 'obo_id': 'DOID:10211', 'label': 'cholelithiasis'}, {'iri': 'http://purl.obolibrary.org/obo/DOID_5199', 'obo_id': 'DOID:5199', 'label': 'ureteral obstruction'}, {'iri': 'http://purl.obolibrary.org/obo/DOID_11594', 'obo_id': 'DOID:11594', 'label': 'ring staphyloma'}, {'iri': 'http://purl.obolibrary.org/obo/DOID_10261', 'obo_id': 'DOID:10261', 'label': 'discharging ear'}, {'iri': 'http://purl.obolibrary.org/obo/DOID_7736', 'obo_id': 'DOID:7736', 'label': 'retinal telangiectasia'}, {'iri': 'http://purl.obolibrary.org/obo/DOID_12753', 'obo_id': 'DOID:12753', 'label': 'corneal staphyloma'}, {'iri': 'http://purl.obolibrary.org/obo/DOID_5083', 'obo_id': 'DOID:5083', 'label': 'iodine hypothyroidism'}, {'iri': 'http://purl.obolibrary.org/obo/DOID_12782', 'obo_id': 'DOID:12782', 'label': 'cicatricial ectropion'}, {'iri': 'http://purl.obolibrary.org/obo/DOID_10139', 'obo_id': 'DOID:10139', 'label': 'conjunctival degeneration'}, {'iri': 'http://purl.obolibrary.org/obo/DOID_11465', 'obo_id': 'DOID:11465', 'label': 'autonomic nervous system disease'}, {'iri': 'http://purl.obolibrary.org/obo/DOID_11871', 'obo_id': 'DOID:11871', 'label': 'macular keratitis'}, {'iri': 'http://purl.obolibrary.org/obo/DOID_10575', 'obo_id': 'DOID:10575', 'label': 'calcium metabolism disease'}, {'iri': 'http://purl.obolibrary.org/obo/DOID_10846', 'obo_id': 'DOID:10846', 'label': 'angiodysplasia of intestine'}, {'iri': 'http://purl.obolibrary.org/obo/DOID_4030', 'obo_id': 'DOID:4030', 'label': 'eosinophilic gastritis'}, {'iri': 'http://purl.obolibrary.org/obo/DOID_10810', 'obo_id': 'DOID:10810', 'label': 'tibialis tendinitis'}, {'iri': 'http://purl.obolibrary.org/obo/DOID_10835', 'obo_id': 'DOID:10835', 'label': 'chylocele of tunica vaginalis'}, {'iri': 'http://purl.obolibrary.org/obo/DOID_10742', 'obo_id': 'DOID:10742', 'label': 'cerebral lipidosis'}, {'iri': 'http://purl.obolibrary.org/obo/DOID_5782', 'obo_id': 'DOID:5782', 'label': 'tympanic membrane disease'}, {'iri': 'http://purl.obolibrary.org/obo/DOID_5781', 'obo_id': 'DOID:5781', 'label': 'atrophic flaccid tympanic membrane'}, {'iri': 'http://purl.obolibrary.org/obo/DOID_3096', 'obo_id': 'DOID:3096', 'label': 'stenosis of lacrimal sac'}, {'iri': 'http://purl.obolibrary.org/obo/DOID_11685', 'obo_id': 'DOID:11685', 'label': 'inflamed seborrheic keratosis'}, {'iri': 'http://purl.obolibrary.org/obo/DOID_10361', 'obo_id': 'DOID:10361', 'label': 'eosinophilic meningitis'}, {'iri': 'http://purl.obolibrary.org/obo/DOID_8787', 'obo_id': 'DOID:8787', 'label': 'disseminated chorioretinitis'}, {'iri': 'http://purl.obolibrary.org/obo/DOID_10293', 'obo_id': 'DOID:10293', 'label': 'monocular esotropia'}, {'iri': 'http://purl.obolibrary.org/obo/DOID_10627', 'obo_id': 'DOID:10627', 'label': 'primary optic atrophy'}, {'iri': 'http://purl.obolibrary.org/obo/DOID_10651', 'obo_id': 'DOID:10651', 'label': 'acute anterolateral myocardial infarction'}, {'iri': 'http://purl.obolibrary.org/obo/DOID_11988', 'obo_id': 'DOID:11988', 'label': 'conjunctival concretion'}, {'iri': 'http://purl.obolibrary.org/obo/DOID_11994', 'obo_id': 'DOID:11994', 'label': 'atrophy of testis'}, {'iri': 'http://purl.obolibrary.org/obo/DOID_10697', 'obo_id': 'DOID:10697', 'label': 'chronic endophthalmitis'}, {'iri': 'http://purl.obolibrary.org/obo/DOID_4250', 'obo_id': 'DOID:4250', 'label': 'conjunctivochalasis'}, {'iri': 'http://purl.obolibrary.org/obo/DOID_11853', 'obo_id': 'DOID:11853', 'label': 'monocular exotropia'}, {'iri': 'http://purl.obolibrary.org/obo/DOID_11850', 'obo_id': 'DOID:11850', 'label': 'transient refractive change'}, {'iri': 'http://purl.obolibrary.org/obo/DOID_11864', 'obo_id': 'DOID:11864', 'label': 'peripheral focal chorioretinitis'}, {'iri': 'http://purl.obolibrary.org/obo/DOID_6970', 'obo_id': 'DOID:6970', 'label': 'acute inflammation of lacrimal passage'}, {'iri': 'http://purl.obolibrary.org/obo/DOID_6929', 'obo_id': 'DOID:6929', 'label': 'retinal edema'}, {'iri': 'http://purl.obolibrary.org/obo/DOID_1142', 'obo_id': 'DOID:1142', 'label': 'alternating exotropia'}, {'iri': 'http://purl.obolibrary.org/obo/DOID_2460', 'obo_id': 'DOID:2460', 'label': 'anterior dislocation of lens'}, {'iri': 'http://purl.obolibrary.org/obo/DOID_2092', 'obo_id': 'DOID:2092', 'label': 'transient arthritis'}, {'iri': 'http://purl.obolibrary.org/obo/DOID_4664', 'obo_id': 'DOID:4664', 'label': 'filamentary keratitis'}, {'iri': 'http://purl.obolibrary.org/obo/DOID_10963', 'obo_id': 'DOID:10963', 'label': 'cholesteatoma of attic'}, {'iri': 'http://purl.obolibrary.org/obo/DOID_1076', 'obo_id': 'DOID:1076', 'label': 'chronic pyelonephritis'}, {'iri': 'http://purl.obolibrary.org/obo/DOID_2301', 'obo_id': 'DOID:2301', 'label': 'atrophy of prostate'}, {'iri': 'http://purl.obolibrary.org/obo/DOID_2251', 'obo_id': 'DOID:2251', 'label': 'hypertrophic elongation of cervix'}, {'iri': 'http://purl.obolibrary.org/obo/DOID_4873', 'obo_id': 'DOID:4873', 'label': 'anterior horn cell disease'}, {'iri': 'http://purl.obolibrary.org/obo/DOID_11374', 'obo_id': 'DOID:11374', 'label': 'anal spasm'}, {'iri': 'http://purl.obolibrary.org/obo/DOID_11382', 'obo_id': 'DOID:11382', 'label': 'corneal neovascularization'}, {'iri': 'http://purl.obolibrary.org/obo/DOID_11390', 'obo_id': 'DOID:11390', 'label': 'cerebral arteritis'}, {'iri': 'http://purl.obolibrary.org/obo/DOID_11736', 'obo_id': 'DOID:11736', 'label': 'odontoclasia'}, {'iri': 'http://purl.obolibrary.org/obo/DOID_11752', 'obo_id': 'DOID:11752', 'label': 'acute endophthalmitis'}, {'iri': 'http://purl.obolibrary.org/obo/DOID_11766', 'obo_id': 'DOID:11766', 'label': 'blind hypotensive eye'}, {'iri': 'http://purl.obolibrary.org/obo/DOID_10442', 'obo_id': 'DOID:10442', 'label': 'hypopyon ulcer'}, {'iri': 'http://purl.obolibrary.org/obo/DOID_10443', 'obo_id': 'DOID:10443', 'label': 'hypopyon'}, {'iri': 'http://purl.obolibrary.org/obo/DOID_11772', 'obo_id': 'DOID:11772', 'label': 'leukocoria'}, {'iri': 'http://purl.obolibrary.org/obo/DOID_11781', 'obo_id': 'DOID:11781', 'label': 'regular astigmatism'}, {'iri': 'http://purl.obolibrary.org/obo/DOID_11787', 'obo_id': 'DOID:11787', 'label': 'chronic congestive splenomegaly'}, {'iri': 'http://purl.obolibrary.org/obo/DOID_11793', 'obo_id': 'DOID:11793', 'label': 'phthisical cornea'}, {'iri': 'http://purl.obolibrary.org/obo/DOID_10499', 'obo_id': 'DOID:10499', 'label': 'orbital granuloma'}, {'iri': 'http://purl.obolibrary.org/obo/DOID_8883', 'obo_id': 'DOID:8883', 'label': 'lower lip cancer'}, {'iri': 'http://purl.obolibrary.org/obo/DOID_12959', 'obo_id': 'DOID:12959', 'label': 'lagophthalmos'}, {'iri': 'http://purl.obolibrary.org/obo/DOID_12958', 'obo_id': 'DOID:12958', 'label': 'paralytic lagophthalmos'}, {'iri': 'http://purl.obolibrary.org/obo/DOID_11638', 'obo_id': 'DOID:11638', 'label': 'presbyopia'}, {'iri': 'http://purl.obolibrary.org/obo/DOID_11653', 'obo_id': 'DOID:11653', 'label': 'conjunctival deposit'}, {'iri': 'http://purl.obolibrary.org/obo/DOID_12997', 'obo_id': 'DOID:12997', 'label': 'Phlegmonous dacryocystitis'}, {'iri': 'http://purl.obolibrary.org/obo/DOID_11669', 'obo_id': 'DOID:11669', 'label': 'hypertrichosis of eyelid'}, {'iri': 'http://purl.obolibrary.org/obo/DOID_11671', 'obo_id': 'DOID:11671', 'label': 'hypotrichosis of eyelid'}, {'iri': 'http://purl.obolibrary.org/obo/DOID_10341', 'obo_id': 'DOID:10341', 'label': 'chronic meningitis'}, {'iri': 'http://purl.obolibrary.org/obo/DOID_8630', 'obo_id': 'DOID:8630', 'label': 'upper lip cancer'}, {'iri': 'http://purl.obolibrary.org/obo/DOID_813', 'obo_id': 'DOID:813', 'label': 'septic arthritis'}, {'iri': 'http://purl.obolibrary.org/obo/DOID_8649', 'obo_id': 'DOID:8649', 'label': 'tongue cancer'}, {'iri': 'http://purl.obolibrary.org/obo/DOID_9396', 'obo_id': 'DOID:9396', 'label': 'acute laryngitis'}, {'iri': 'http://purl.obolibrary.org/obo/DOID_9383', 'obo_id': 'DOID:9383', 'label': 'iridocyclitis'}, {'iri': 'http://purl.obolibrary.org/obo/DOID_8687', 'obo_id': 'DOID:8687', 'label': 'skin carcinoma in situ'}, {'iri': 'http://purl.obolibrary.org/obo/DOID_11747', 'obo_id': 'DOID:11747', 'label': 'uterine adnexa cancer'}, {'iri': 'http://purl.obolibrary.org/obo/DOID_14443', 'obo_id': 'DOID:14443', 'label': 'cholinergic urticaria'}, {'iri': 'http://purl.obolibrary.org/obo/DOID_13138', 'obo_id': 'DOID:13138', 'label': 'acute proliferative glomerulonephritis'}, {'iri': 'http://purl.obolibrary.org/obo/DOID_0040085', 'obo_id': 'DOID:0040085', 'label': 'bacterial sepsis'}, {'iri': 'http://purl.obolibrary.org/obo/DOID_0040084', 'obo_id': 'DOID:0040084', 'label': 'Streptococcus pneumonia'}, {'iri': 'http://purl.obolibrary.org/obo/DOID_0040083', 'obo_id': 'DOID:0040083', 'label': 'Chlamydia pneumonia'}, {'iri': 'http://purl.obolibrary.org/obo/DOID_0040099', 'obo_id': 'DOID:0040099', 'label': 'livedoid vasculitis'}, {'iri': 'http://purl.obolibrary.org/obo/DOID_13174', 'obo_id': 'DOID:13174', 'label': 'dissociated nystagmus'}, {'iri': 'http://purl.obolibrary.org/obo/DOID_9388', 'obo_id': 'DOID:9388', 'label': 'lens-induced iridocyclitis'}, {'iri': 'http://purl.obolibrary.org/obo/DOID_9365', 'obo_id': 'DOID:9365', 'label': 'vesiculitis'}, {'iri': 'http://purl.obolibrary.org/obo/DOID_9368', 'obo_id': 'DOID:9368', 'label': 'keratoconjunctivitis'}, {'iri': 'http://purl.obolibrary.org/obo/DOID_9378', 'obo_id': 'DOID:9378', 'label': 'glaucomatocyclitic crisis'}, {'iri': 'http://purl.obolibrary.org/obo/DOID_9346', 'obo_id': 'DOID:9346', 'label': \"Taylor's syndrome\"}, {'iri': 'http://purl.obolibrary.org/obo/DOID_9358', 'obo_id': 'DOID:9358', 'label': 'fibular collateral ligament bursitis'}, {'iri': 'http://purl.obolibrary.org/obo/DOID_9307', 'obo_id': 'DOID:9307', 'label': 'rectal prolapse'}, {'iri': 'http://purl.obolibrary.org/obo/DOID_13448', 'obo_id': 'DOID:13448', 'label': 'posterior corneal pigmentation'}, {'iri': 'http://purl.obolibrary.org/obo/DOID_13447', 'obo_id': 'DOID:13447', 'label': 'corneal argyrosis'}, {'iri': 'http://purl.obolibrary.org/obo/DOID_13453', 'obo_id': 'DOID:13453', 'label': 'gonococcal bursitis'}, {'iri': 'http://purl.obolibrary.org/obo/DOID_13452', 'obo_id': 'DOID:13452', 'label': 'scleritis'}, {'iri': 'http://purl.obolibrary.org/obo/DOID_12123', 'obo_id': 'DOID:12123', 'label': 'postinflammatory pulmonary fibrosis'}, {'iri': 'http://purl.obolibrary.org/obo/DOID_13461', 'obo_id': 'DOID:13461', 'label': 'urethral intrinsic sphincter deficiency'}, {'iri': 'http://purl.obolibrary.org/obo/DOID_12165', 'obo_id': 'DOID:12165', 'label': 'retinal lattice degeneration'}, {'iri': 'http://purl.obolibrary.org/obo/DOID_12163', 'obo_id': 'DOID:12163', 'label': 'senile reticular retinal degeneration'}, {'iri': 'http://purl.obolibrary.org/obo/DOID_12161', 'obo_id': 'DOID:12161', 'label': 'peripheral retinal degeneration'}, {'iri': 'http://purl.obolibrary.org/obo/DOID_12168', 'obo_id': 'DOID:12168', 'label': 'ulnar nerve lesion'}, {'iri': 'http://purl.obolibrary.org/obo/DOID_12175', 'obo_id': 'DOID:12175', 'label': 'dyshormonogenic goiter'}, {'iri': 'http://purl.obolibrary.org/obo/DOID_13409', 'obo_id': 'DOID:13409', 'label': 'perforation of bile duct'}, {'iri': 'http://purl.obolibrary.org/obo/DOID_14654', 'obo_id': 'DOID:14654', 'label': 'prostatitis'}, {'iri': 'http://purl.obolibrary.org/obo/DOID_13333', 'obo_id': 'DOID:13333', 'label': 'hypertrophy of tongue papillae'}, {'iri': 'http://purl.obolibrary.org/obo/DOID_12010', 'obo_id': 'DOID:12010', 'label': 'anterior ischemic optic neuropathy'}, {'iri': 'http://purl.obolibrary.org/obo/DOID_13351', 'obo_id': 'DOID:13351', 'label': 'pedophilia'}, {'iri': 'http://purl.obolibrary.org/obo/DOID_12325', 'obo_id': 'DOID:12325', 'label': 'kyphoscoliotic heart disease'}, {'iri': 'http://purl.obolibrary.org/obo/DOID_13654', 'obo_id': 'DOID:13654', 'label': 'stenosis of lacrimal passage'}, {'iri': 'http://purl.obolibrary.org/obo/DOID_9842', 'obo_id': 'DOID:9842', 'label': 'total circumpapillary dystrophy of choroid'}, {'iri': 'http://purl.obolibrary.org/obo/DOID_13662', 'obo_id': 'DOID:13662', 'label': 'ulcer of anus and rectum'}, {'iri': 'http://purl.obolibrary.org/obo/DOID_12337', 'obo_id': 'DOID:12337', 'label': 'varicocele'}, {'iri': 'http://purl.obolibrary.org/obo/DOID_12335', 'obo_id': 'DOID:12335', 'label': 'male genital organ vascular disease'}, {'iri': 'http://purl.obolibrary.org/obo/DOID_12333', 'obo_id': 'DOID:12333', 'label': 'male genital organ stricture'}, {'iri': 'http://purl.obolibrary.org/obo/DOID_9854', 'obo_id': 'DOID:9854', 'label': 'lingual-facial-buccal dyskinesia'}, {'iri': 'http://purl.obolibrary.org/obo/DOID_9820', 'obo_id': 'DOID:9820', 'label': 'central gyrate choroidal dystrophy'}, {'iri': 'http://purl.obolibrary.org/obo/DOID_13566', 'obo_id': 'DOID:13566', 'label': 'tibial collateral ligament bursitis'}, {'iri': 'http://purl.obolibrary.org/obo/DOID_12234', 'obo_id': 'DOID:12234', 'label': 'cascade stomach'}, {'iri': 'http://purl.obolibrary.org/obo/DOID_9834', 'obo_id': 'DOID:9834', 'label': 'hyperopia'}, {'iri': 'http://purl.obolibrary.org/obo/DOID_8507', 'obo_id': 'DOID:8507', 'label': 'juvenile dermatitis herpetiformis'}, {'iri': 'http://purl.obolibrary.org/obo/DOID_9837', 'obo_id': 'DOID:9837', 'label': 'hypertropia'}, {'iri': 'http://purl.obolibrary.org/obo/DOID_12246', 'obo_id': 'DOID:12246', 'label': 'histoplasmosis meningitis'}, {'iri': 'http://purl.obolibrary.org/obo/DOID_12265', 'obo_id': 'DOID:12265', 'label': 'chronic salpingo-oophoritis'}, {'iri': 'http://purl.obolibrary.org/obo/DOID_12273', 'obo_id': 'DOID:12273', 'label': 'anisometropia'}, {'iri': 'http://purl.obolibrary.org/obo/DOID_13910', 'obo_id': 'DOID:13910', 'label': 'red color blindness'}, {'iri': 'http://purl.obolibrary.org/obo/DOID_13913', 'obo_id': 'DOID:13913', 'label': 'lumbosacral plexus lesion'}, {'iri': 'http://purl.obolibrary.org/obo/DOID_13942', 'obo_id': 'DOID:13942', 'label': 'acute gonococcal salpingitis'}, {'iri': 'http://purl.obolibrary.org/obo/DOID_9788', 'obo_id': 'DOID:9788', 'label': 'myositis fibrosa'}, {'iri': 'http://purl.obolibrary.org/obo/DOID_7127', 'obo_id': 'DOID:7127', 'label': 'radiation cystitis'}, {'iri': 'http://purl.obolibrary.org/obo/DOID_8463', 'obo_id': 'DOID:8463', 'label': 'corneal ulcer'}, {'iri': 'http://purl.obolibrary.org/obo/DOID_8465', 'obo_id': 'DOID:8465', 'label': 'retinoschisis'}, {'iri': 'http://purl.obolibrary.org/obo/DOID_11316', 'obo_id': 'DOID:11316', 'label': 'histoplasmosis retinitis'}, {'iri': 'http://purl.obolibrary.org/obo/DOID_12641', 'obo_id': 'DOID:12641', 'label': 'displacement of cardia through esophageal hiatus'}, {'iri': 'http://purl.obolibrary.org/obo/DOID_8439', 'obo_id': 'DOID:8439', 'label': 'postgastrectomy syndrome'}, {'iri': 'http://purl.obolibrary.org/obo/DOID_8437', 'obo_id': 'DOID:8437', 'label': 'intestinal obstruction'}, {'iri': 'http://purl.obolibrary.org/obo/DOID_12657', 'obo_id': 'DOID:12657', 'label': 'vestibulocochlear nerve disease'}, {'iri': 'http://purl.obolibrary.org/obo/DOID_8442', 'obo_id': 'DOID:8442', 'label': 'paralytic ileus'}, {'iri': 'http://purl.obolibrary.org/obo/DOID_11330', 'obo_id': 'DOID:11330', 'label': 'erysipelas'}, {'iri': 'http://purl.obolibrary.org/obo/DOID_9745', 'obo_id': 'DOID:9745', 'label': 'perianal hematoma'}, {'iri': 'http://purl.obolibrary.org/obo/DOID_9749', 'obo_id': 'DOID:9749', 'label': 'internal hemorrhoid'}, {'iri': 'http://purl.obolibrary.org/obo/DOID_12678', 'obo_id': 'DOID:12678', 'label': 'hypercalcemia'}, {'iri': 'http://purl.obolibrary.org/obo/DOID_11354', 'obo_id': 'DOID:11354', 'label': 'stone in bladder diverticulum'}, {'iri': 'http://purl.obolibrary.org/obo/DOID_11364', 'obo_id': 'DOID:11364', 'label': 'lens subluxation'}, {'iri': 'http://purl.obolibrary.org/obo/DOID_9735', 'obo_id': 'DOID:9735', 'label': 'acute allergic mucoid otitis media'}, {'iri': 'http://purl.obolibrary.org/obo/DOID_11267', 'obo_id': 'DOID:11267', 'label': 'keratomalacia'}, {'iri': 'http://purl.obolibrary.org/obo/DOID_9714', 'obo_id': 'DOID:9714', 'label': 'occlusion of gallbladder'}, {'iri': 'http://purl.obolibrary.org/obo/DOID_11282', 'obo_id': 'DOID:11282', 'label': 'solar retinopathy'}, {'iri': 'http://purl.obolibrary.org/obo/DOID_11299', 'obo_id': 'DOID:11299', 'label': 'vertebral artery occlusion'}, {'iri': 'http://purl.obolibrary.org/obo/DOID_12043', 'obo_id': 'DOID:12043', 'label': 'kernicterus due to isoimmunization'}, {'iri': 'http://purl.obolibrary.org/obo/DOID_12055', 'obo_id': 'DOID:12055', 'label': 'sarcoid meningitis'}, {'iri': 'http://purl.obolibrary.org/obo/DOID_12087', 'obo_id': 'DOID:12087', 'label': 'deep corneal vascularisation'}, {'iri': 'http://purl.obolibrary.org/obo/DOID_13709', 'obo_id': 'DOID:13709', 'label': 'premature ejaculation'}, {'iri': 'http://purl.obolibrary.org/obo/DOID_8672', 'obo_id': 'DOID:8672', 'label': 'viral exanthem'}, {'iri': 'http://purl.obolibrary.org/obo/DOID_13739', 'obo_id': 'DOID:13739', 'label': 'nutmeg liver'}, {'iri': 'http://purl.obolibrary.org/obo/DOID_13738', 'obo_id': 'DOID:13738', 'label': 'hepatic infarction'}, {'iri': 'http://purl.obolibrary.org/obo/DOID_12424', 'obo_id': 'DOID:12424', 'label': 'thyrocalcitonin secretion disease'}, {'iri': 'http://purl.obolibrary.org/obo/DOID_8654', 'obo_id': 'DOID:8654', 'label': \"Hodgkin's lymphoma, mixed cellularity\"}, {'iri': 'http://purl.obolibrary.org/obo/DOID_12445', 'obo_id': 'DOID:12445', 'label': 'conjugate gaze palsy'}, {'iri': 'http://purl.obolibrary.org/obo/DOID_11111', 'obo_id': 'DOID:11111', 'label': 'hydronephrosis'}, {'iri': 'http://purl.obolibrary.org/obo/DOID_8633', 'obo_id': 'DOID:8633', 'label': 'chronic intestinal vascular insufficiency'}, {'iri': 'http://purl.obolibrary.org/obo/DOID_11120', 'obo_id': 'DOID:11120', 'label': 'psychologic dyspareunia'}, {'iri': 'http://purl.obolibrary.org/obo/DOID_11121', 'obo_id': 'DOID:11121', 'label': 'pulpitis'}, {'iri': 'http://purl.obolibrary.org/obo/DOID_13781', 'obo_id': 'DOID:13781', 'label': 'hypermobility syndrome'}, {'iri': 'http://purl.obolibrary.org/obo/DOID_11126', 'obo_id': 'DOID:11126', 'label': 'acquired thrombocytopenia'}, {'iri': 'http://purl.obolibrary.org/obo/DOID_11125', 'obo_id': 'DOID:11125', 'label': 'qualitative platelet defect'}, {'iri': 'http://purl.obolibrary.org/obo/DOID_8645', 'obo_id': 'DOID:8645', 'label': 'subacute delirium'}, {'iri': 'http://purl.obolibrary.org/obo/DOID_12349', 'obo_id': 'DOID:12349', 'label': 'primary eye hypotony'}, {'iri': 'http://purl.obolibrary.org/obo/DOID_11029', 'obo_id': 'DOID:11029', 'label': 'pinguecula'}, {'iri': 'http://purl.obolibrary.org/obo/DOID_12363', 'obo_id': 'DOID:12363', 'label': 'intermittent proptosis'}, {'iri': 'http://purl.obolibrary.org/obo/DOID_11030', 'obo_id': 'DOID:11030', 'label': 'corneal edema'}, {'iri': 'http://purl.obolibrary.org/obo/DOID_12360', 'obo_id': 'DOID:12360', 'label': 'lateral displacement of eye'}, {'iri': 'http://purl.obolibrary.org/obo/DOID_11036', 'obo_id': 'DOID:11036', 'label': 'chronic rapidly progressive glomerulonephritis'}, {'iri': 'http://purl.obolibrary.org/obo/DOID_9939', 'obo_id': 'DOID:9939', 'label': 'dacryocystocele'}, {'iri': 'http://purl.obolibrary.org/obo/DOID_12397', 'obo_id': 'DOID:12397', 'label': 'entropion'}, {'iri': 'http://purl.obolibrary.org/obo/DOID_8593', 'obo_id': 'DOID:8593', 'label': 'chronic monocytic leukemia'}, {'iri': 'http://purl.obolibrary.org/obo/DOID_8573', 'obo_id': 'DOID:8573', 'label': 'lichen nitidus'}, {'iri': 'http://purl.obolibrary.org/obo/DOID_7224', 'obo_id': 'DOID:7224', 'label': 'spinal meninges cancer'}, {'iri': 'http://purl.obolibrary.org/obo/DOID_8556', 'obo_id': 'DOID:8556', 'label': 'vallecula cancer'}, {'iri': 'http://purl.obolibrary.org/obo/DOID_8553', 'obo_id': 'DOID:8553', 'label': 'pyoderma gangrenosum'}, {'iri': 'http://purl.obolibrary.org/obo/DOID_8557', 'obo_id': 'DOID:8557', 'label': 'oropharynx cancer'}, {'iri': 'http://purl.obolibrary.org/obo/DOID_12307', 'obo_id': 'DOID:12307', 'label': 'anterior corneal pigmentation'}, {'iri': 'http://purl.obolibrary.org/obo/DOID_9867', 'obo_id': 'DOID:9867', 'label': 'toxic maculopathy'}, {'iri': 'http://purl.obolibrary.org/obo/DOID_12311', 'obo_id': 'DOID:12311', 'label': 'stromal corneal pigmentation'}, {'iri': 'http://purl.obolibrary.org/obo/DOID_14096', 'obo_id': 'DOID:14096', 'label': 'infertility due to extratesticular cause'}, {'iri': 'http://purl.obolibrary.org/obo/DOID_14099', 'obo_id': 'DOID:14099', 'label': 'acquired gastric outlet stenosis'}, {'iri': 'http://purl.obolibrary.org/obo/DOID_9021', 'obo_id': 'DOID:9021', 'label': 'esophageal leukoplakia'}, {'iri': 'http://purl.obolibrary.org/obo/DOID_582', 'obo_id': 'DOID:582', 'label': 'hemoglobinuria'}, {'iri': 'http://purl.obolibrary.org/obo/DOID_1942', 'obo_id': 'DOID:1942', 'label': 'intermittent squint'}, {'iri': 'http://purl.obolibrary.org/obo/DOID_1943', 'obo_id': 'DOID:1943', 'label': 'telogen effluvium'}, {'iri': 'http://purl.obolibrary.org/obo/DOID_1936', 'obo_id': 'DOID:1936', 'label': 'atherosclerosis'}, {'iri': 'http://purl.obolibrary.org/obo/DOID_533', 'obo_id': 'DOID:533', 'label': 'thymus gland disease'}, {'iri': 'http://purl.obolibrary.org/obo/DOID_14043', 'obo_id': 'DOID:14043', 'label': 'neonatal myasthenia gravis'}, {'iri': 'http://purl.obolibrary.org/obo/DOID_14070', 'obo_id': 'DOID:14070', 'label': 'vestibular nystagmus'}, {'iri': 'http://purl.obolibrary.org/obo/DOID_1894', 'obo_id': 'DOID:1894', 'label': 'noninfectious dermatoses of eyelid'}, {'iri': 'http://purl.obolibrary.org/obo/DOID_1844', 'obo_id': 'DOID:1844', 'label': 'mononeuritis of upper limb'}, {'iri': 'http://purl.obolibrary.org/obo/DOID_223', 'obo_id': 'DOID:223', 'label': 'basilar artery insufficiency'}, {'iri': 'http://purl.obolibrary.org/obo/DOID_1835', 'obo_id': 'DOID:1835', 'label': 'mononeuritis multiplex'}, {'iri': 'http://purl.obolibrary.org/obo/DOID_13823', 'obo_id': 'DOID:13823', 'label': 'parasitic eyelid infestation'}, {'iri': 'http://purl.obolibrary.org/obo/DOID_13822', 'obo_id': 'DOID:13822', 'label': 'tetanic cataract'}, {'iri': 'http://purl.obolibrary.org/obo/DOID_12526', 'obo_id': 'DOID:12526', 'label': 'tarsal tunnel syndrome'}, {'iri': 'http://purl.obolibrary.org/obo/DOID_12524', 'obo_id': 'DOID:12524', 'label': 'plantar nerve lesion'}, {'iri': 'http://purl.obolibrary.org/obo/DOID_12537', 'obo_id': 'DOID:12537', 'label': 'hypermobility of coccyx'}, {'iri': 'http://purl.obolibrary.org/obo/DOID_11203', 'obo_id': 'DOID:11203', 'label': \"Angelucci's syndrome\"}, {'iri': 'http://purl.obolibrary.org/obo/DOID_9650', 'obo_id': 'DOID:9650', 'label': 'pathologic nystagmus'}, {'iri': 'http://purl.obolibrary.org/obo/DOID_12558', 'obo_id': 'DOID:12558', 'label': 'chronic progressive external ophthalmoplegia'}, {'iri': 'http://purl.obolibrary.org/obo/DOID_11230', 'obo_id': 'DOID:11230', 'label': 'acute orbital inflammation'}, {'iri': 'http://purl.obolibrary.org/obo/DOID_9602', 'obo_id': 'DOID:9602', 'label': 'necrotizing fasciitis'}, {'iri': 'http://purl.obolibrary.org/obo/DOID_12573', 'obo_id': 'DOID:12573', 'label': 'neonatal thyrotoxicosis'}, {'iri': 'http://purl.obolibrary.org/obo/DOID_11242', 'obo_id': 'DOID:11242', 'label': 'plethora of newborn'}, {'iri': 'http://purl.obolibrary.org/obo/DOID_11245', 'obo_id': 'DOID:11245', 'label': 'transient neonatal neutropenia'}, {'iri': 'http://purl.obolibrary.org/obo/DOID_11246', 'obo_id': 'DOID:11246', 'label': 'DIC in newborn'}, {'iri': 'http://purl.obolibrary.org/obo/DOID_11243', 'obo_id': 'DOID:11243', 'label': 'anemia of prematurity'}, {'iri': 'http://purl.obolibrary.org/obo/DOID_9617', 'obo_id': 'DOID:9617', 'label': 'orthostatic proteinuria'}, {'iri': 'http://purl.obolibrary.org/obo/DOID_13790', 'obo_id': 'DOID:13790', 'label': 'acute tympanitis'}, {'iri': 'http://purl.obolibrary.org/obo/DOID_12465', 'obo_id': 'DOID:12465', 'label': 'secondary hyperparathyroidism of renal origin'}, {'iri': 'http://purl.obolibrary.org/obo/DOID_11133', 'obo_id': 'DOID:11133', 'label': 'prostatic cyst'}, {'iri': 'http://purl.obolibrary.org/obo/DOID_11134', 'obo_id': 'DOID:11134', 'label': 'prolapse of lacrimal gland'}, {'iri': 'http://purl.obolibrary.org/obo/DOID_11175', 'obo_id': 'DOID:11175', 'label': 'enophthalmos'}, {'iri': 'http://purl.obolibrary.org/obo/DOID_1677', 'obo_id': 'DOID:1677', 'label': 'low implantation of placenta'}, {'iri': 'http://purl.obolibrary.org/obo/DOID_681', 'obo_id': 'DOID:681', 'label': 'progressive bulbar palsy'}, {'iri': 'http://purl.obolibrary.org/obo/DOID_1404', 'obo_id': 'DOID:1404', 'label': 'residual stage angle-closure glaucoma'}, {'iri': 'http://purl.obolibrary.org/obo/DOID_1417', 'obo_id': 'DOID:1417', 'label': 'choroid disease'}, {'iri': 'http://purl.obolibrary.org/obo/DOID_607', 'obo_id': 'DOID:607', 'label': 'paraplegia'}, {'iri': 'http://purl.obolibrary.org/obo/DOID_648', 'obo_id': 'DOID:648', 'label': 'kuru'}, {'iri': 'http://purl.obolibrary.org/obo/DOID_1397', 'obo_id': 'DOID:1397', 'label': 'chronic orbital inflammation'}, {'iri': 'http://purl.obolibrary.org/obo/DOID_1375', 'obo_id': 'DOID:1375', 'label': 'neonatal urinary tract infectious disease'}, {'iri': 'http://purl.obolibrary.org/obo/DOID_1324', 'obo_id': 'DOID:1324', 'label': 'lung cancer'}, {'iri': 'http://purl.obolibrary.org/obo/DOID_790', 'obo_id': 'DOID:790', 'label': 'ocular hypotension'}, {'iri': 'http://purl.obolibrary.org/obo/DOID_786', 'obo_id': 'DOID:786', 'label': 'laryngeal disease'}, {'iri': 'http://purl.obolibrary.org/obo/DOID_724', 'obo_id': 'DOID:724', 'label': 'female stress incontinence'}, {'iri': 'http://purl.obolibrary.org/obo/DOID_1241', 'obo_id': 'DOID:1241', 'label': 'luxation of globe'}, {'iri': 'http://purl.obolibrary.org/obo/DOID_1235', 'obo_id': 'DOID:1235', 'label': 'fetishism'}, {'iri': 'http://purl.obolibrary.org/obo/DOID_2569', 'obo_id': 'DOID:2569', 'label': 'retinal drusen'}, {'iri': 'http://purl.obolibrary.org/obo/DOID_2536', 'obo_id': 'DOID:2536', 'label': 'chronic inflammatory demyelinating polyneuritis'}, {'iri': 'http://purl.obolibrary.org/obo/DOID_14107', 'obo_id': 'DOID:14107', 'label': 'De Quervain disease'}, {'iri': 'http://purl.obolibrary.org/obo/DOID_14111', 'obo_id': 'DOID:14111', 'label': 'median rhomboid glossitis'}, {'iri': 'http://purl.obolibrary.org/obo/DOID_9088', 'obo_id': 'DOID:9088', 'label': 'parapsoriasis'}, {'iri': 'http://purl.obolibrary.org/obo/DOID_14159', 'obo_id': 'DOID:14159', 'label': 'obstructive hydrocephalus'}, {'iri': 'http://purl.obolibrary.org/obo/DOID_14172', 'obo_id': 'DOID:14172', 'label': 'rheumatic congestive heart failure'}, {'iri': 'http://purl.obolibrary.org/obo/DOID_14177', 'obo_id': 'DOID:14177', 'label': 'congenital hypogammaglobulinemia'}, {'iri': 'http://purl.obolibrary.org/obo/DOID_14092', 'obo_id': 'DOID:14092', 'label': 'renal artery atheroma'}, {'iri': 'http://purl.obolibrary.org/obo/DOID_876', 'obo_id': 'DOID:876', 'label': 'pyomyositis'}, {'iri': 'http://purl.obolibrary.org/obo/DOID_862', 'obo_id': 'DOID:862', 'label': 'diplegia of upper limb'}, {'iri': 'http://purl.obolibrary.org/obo/DOID_807', 'obo_id': 'DOID:807', 'label': 'carotid artery occlusion'}, {'iri': 'http://purl.obolibrary.org/obo/DOID_1573', 'obo_id': 'DOID:1573', 'label': 'communicating hydrocephalus'}, {'iri': 'http://purl.obolibrary.org/obo/DOID_1570', 'obo_id': 'DOID:1570', 'label': 'ectropion'}, {'iri': 'http://purl.obolibrary.org/obo/DOID_2834', 'obo_id': 'DOID:2834', 'label': 'acquired polycythemia'}, {'iri': 'http://purl.obolibrary.org/obo/DOID_950', 'obo_id': 'DOID:950', 'label': 'dacryoadenitis'}, {'iri': 'http://purl.obolibrary.org/obo/DOID_929', 'obo_id': 'DOID:929', 'label': 'myopathy of extraocular muscle'}, {'iri': 'http://purl.obolibrary.org/obo/DOID_900', 'obo_id': 'DOID:900', 'label': 'hepatopulmonary syndrome'}, {'iri': 'http://purl.obolibrary.org/obo/DOID_1458', 'obo_id': 'DOID:1458', 'label': 'postsurgical hypothyroidism'}, {'iri': 'http://purl.obolibrary.org/obo/DOID_1456', 'obo_id': 'DOID:1456', 'label': 'glossitis'}, {'iri': 'http://purl.obolibrary.org/obo/DOID_13014', 'obo_id': 'DOID:13014', 'label': 'shipyard eye'}, {'iri': 'http://purl.obolibrary.org/obo/DOID_13068', 'obo_id': 'DOID:13068', 'label': 'renal osteodystrophy'}, {'iri': 'http://purl.obolibrary.org/obo/DOID_14397', 'obo_id': 'DOID:14397', 'label': 'protozoal dysentery'}, {'iri': 'http://purl.obolibrary.org/obo/DOID_146', 'obo_id': 'DOID:146', 'label': 'papilledema'}, {'iri': 'http://purl.obolibrary.org/obo/DOID_13088', 'obo_id': 'DOID:13088', 'label': 'periventricular leukomalacia'}, {'iri': 'http://purl.obolibrary.org/obo/DOID_320', 'obo_id': 'DOID:320', 'label': 'vascular myelopathy'}, {'iri': 'http://purl.obolibrary.org/obo/DOID_319', 'obo_id': 'DOID:319', 'label': 'spinal cord disease'}, {'iri': 'http://purl.obolibrary.org/obo/DOID_1742', 'obo_id': 'DOID:1742', 'label': 'drug psychosis'}, {'iri': 'http://purl.obolibrary.org/obo/DOID_1756', 'obo_id': 'DOID:1756', 'label': 'facial nerve disease'}, {'iri': 'http://purl.obolibrary.org/obo/DOID_1729', 'obo_id': 'DOID:1729', 'label': 'retinal vascular occlusion'}, {'iri': 'http://purl.obolibrary.org/obo/DOID_14245', 'obo_id': 'DOID:14245', 'label': 'cystoid macular retinal degeneration'}, {'iri': 'http://purl.obolibrary.org/obo/DOID_14251', 'obo_id': 'DOID:14251', 'label': 'vitreoretinal dystrophy'}, {'iri': 'http://purl.obolibrary.org/obo/DOID_5200', 'obo_id': 'DOID:5200', 'label': 'urinary tract obstruction'}, {'iri': 'http://purl.obolibrary.org/obo/DOID_9589', 'obo_id': 'DOID:9589', 'label': 'urethral calculus'}, {'iri': 'http://purl.obolibrary.org/obo/DOID_14524', 'obo_id': 'DOID:14524', 'label': 'senile degeneration of brain'}, {'iri': 'http://purl.obolibrary.org/obo/DOID_13206', 'obo_id': 'DOID:13206', 'label': 'nodular prostate'}, {'iri': 'http://purl.obolibrary.org/obo/DOID_14548', 'obo_id': 'DOID:14548', 'label': 'steroid-induced glaucoma - borderline'}, {'iri': 'http://purl.obolibrary.org/obo/DOID_13227', 'obo_id': 'DOID:13227', 'label': \"retinal dystrophies primarily involving Bruch's membrane\"}, {'iri': 'http://purl.obolibrary.org/obo/DOID_13240', 'obo_id': 'DOID:13240', 'label': 'tooth resorption'}, {'iri': 'http://purl.obolibrary.org/obo/DOID_13295', 'obo_id': 'DOID:13295', 'label': 'crater-like holes of optic disc'}, {'iri': 'http://purl.obolibrary.org/obo/DOID_9461', 'obo_id': 'DOID:9461', 'label': 'exposure keratitis'}, {'iri': 'http://purl.obolibrary.org/obo/DOID_9427', 'obo_id': 'DOID:9427', 'label': 'hypertensive encephalopathy'}, {'iri': 'http://purl.obolibrary.org/obo/DOID_9409', 'obo_id': 'DOID:9409', 'label': 'diabetes insipidus'}, {'iri': 'http://purl.obolibrary.org/obo/DOID_14507', 'obo_id': 'DOID:14507', 'label': 'peripheral degeneration of cornea'}, {'iri': 'http://purl.obolibrary.org/obo/DOID_14423', 'obo_id': 'DOID:14423', 'label': 'glossopharyngeal neuralgia'}, {'iri': 'http://purl.obolibrary.org/obo/DOID_14427', 'obo_id': 'DOID:14427', 'label': 'abnormality of glucagon secretion'}, {'iri': 'http://purl.obolibrary.org/obo/DOID_12809', 'obo_id': 'DOID:12809', 'label': 'chronic lacrimal gland enlargement'}, {'iri': 'http://purl.obolibrary.org/obo/DOID_12835', 'obo_id': 'DOID:12835', 'label': 'quadriplegia'}, {'iri': 'http://purl.obolibrary.org/obo/DOID_11527', 'obo_id': 'DOID:11527', 'label': 'laryngostenosis'}, {'iri': 'http://purl.obolibrary.org/obo/DOID_0080179', 'obo_id': 'DOID:0080179', 'label': 'haemophilus meningitis'}, {'iri': 'http://purl.obolibrary.org/obo/DOID_11547', 'obo_id': 'DOID:11547', 'label': 'corneal deposit'}, {'iri': 'http://purl.obolibrary.org/obo/DOID_11541', 'obo_id': 'DOID:11541', 'label': 'recurrent corneal erosion'}, {'iri': 'http://purl.obolibrary.org/obo/DOID_0080176', 'obo_id': 'DOID:0080176', 'label': 'meningococcal meningitis'}, {'iri': 'http://purl.obolibrary.org/obo/DOID_11552', 'obo_id': 'DOID:11552', 'label': \"Bowman's membrane folds or rupture\"}, {'iri': 'http://purl.obolibrary.org/obo/DOID_11561', 'obo_id': 'DOID:11561', 'label': 'hypertensive retinopathy'}]}, 'facet_counts': {'facet_queries': {}, 'facet_fields': {'ontology_name': ['doid', 2113, 'aeo', 0, 'afo', 0, 'agro', 0, 'aism', 0, 'amphx', 0, 'apo', 0, 'apollo_sv', 0, 'aro', 0, 'atol', 0, 'bao', 0, 'bcio', 0, 'bco', 0, 'bfo', 0, 'bspo', 0, 'bto', 0, 'caro', 0, 'cco', 0, 'cdao', 0, 'cdno', 0, 'ceph', 0, 'chebi', 0, 'cheminf', 0, 'chiro', 0, 'chmo', 0, 'cido', 0, 'cio', 0, 'cl', 0, 'clao', 0, 'clo', 0, 'clyh', 0, 'cmo', 0, 'cmpo', 0, 'co_320', 0, 'co_321', 0, 'co_322', 0, 'co_323', 0, 'co_324', 0, 'co_325', 0, 'co_326', 0, 'co_327', 0, 'co_330', 0, 'co_331', 0, 'co_333', 0, 'co_334', 0, 'co_335', 0, 'co_337', 0, 'co_338', 0, 'co_339', 0, 'co_340', 0, 'co_341', 0, 'co_343', 0, 'co_345', 0, 'co_346', 0, 'co_347', 0, 'co_348', 0, 'co_350', 0, 'co_356', 0, 'co_357', 0, 'co_358', 0, 'co_360', 0, 'co_365', 0, 'co_366', 0, 'cob', 0, 'covoc', 0, 'cro', 0, 'cryoem', 0, 'cteno', 0, 'cto', 0, 'cvdo', 0, 'ddanat', 0, 'ddpheno', 0, 'dicom', 0, 'dideo', 0, 'disdriv', 0, 'dpo', 0, 'dron', 0, 'duo', 0, 'ecao', 0, 'eco', 0, 'ecocore', 0, 'ecto', 0, 'edam', 0, 'efo', 0, 'ehdaa2', 0, 'emapa', 0, 'enm', 0, 'ensemblglossary', 0, 'envo', 0, 'eol', 0, 'ero', 0, 'eupath', 0, 'exo', 0, 'fao', 0, 'fbbi', 0, 'fbbt', 0, 'fbcv', 0, 'fbdv', 0, 'fideo', 0, 'fix', 0], 'ontology_prefix': ['DOID', 2113, 'AEO', 0, 'AFO', 0, 'AGRO', 0, 'AISM', 0, 'AMPHX', 0, 'APO', 0, 'APOLLO_SV', 0, 'ARO', 0, 'ATOL', 0, 'BAO', 0, 'BCIO', 0, 'BCO', 0, 'BFO', 0, 'BSPO', 0, 'BTO', 0, 'CARO', 0, 'CCO', 0, 'CDAO', 0, 'CDNO', 0, 'CEPH', 0, 'CHEBI', 0, 'CHEMINF', 0, 'CHIRO', 0, 'CHMO', 0, 'CIDO', 0, 'CIO', 0, 'CL', 0, 'CLAO', 0, 'CLO', 0, 'CLYH', 0, 'CMO', 0, 'CMPO', 0, 'COB', 0, 'COVOC', 0, 'CO_320', 0, 'CO_321', 0, 'CO_322', 0, 'CO_323', 0, 'CO_324', 0, 'CO_325', 0, 'CO_326', 0, 'CO_327', 0, 'CO_330', 0, 'CO_331', 0, 'CO_333', 0, 'CO_334', 0, 'CO_335', 0, 'CO_337', 0, 'CO_338', 0, 'CO_339', 0, 'CO_340', 0, 'CO_341', 0, 'CO_343', 0, 'CO_345', 0, 'CO_346', 0, 'CO_347', 0, 'CO_348', 0, 'CO_350', 0, 'CO_356', 0, 'CO_357', 0, 'CO_358', 0, 'CO_360', 0, 'CO_365', 0, 'CO_366', 0, 'CRO', 0, 'CRYOEM', 0, 'CTENO', 0, 'CTO', 0, 'CVDO', 0, 'DDANAT', 0, 'DDPHENO', 0, 'DICOM', 0, 'DIDEO', 0, 'DISDRIV', 0, 'DRON', 0, 'DUO', 0, 'ECAO', 0, 'ECO', 0, 'ECOCORE', 0, 'ECTO', 0, 'EDAM', 0, 'EFO', 0, 'EHDAA2', 0, 'EMAPA', 0, 'ENM', 0, 'ENSGLOSS', 0, 'ENVO', 0, 'EOL', 0, 'ERO', 0, 'EUPATH', 0, 'ExO', 0, 'FAO', 0, 'FBbi', 0, 'FBbt', 0, 'FBcv', 0, 'FBdv', 0, 'FIDEO', 0, 'FIX', 0, 'FLOPO', 0], 'type': ['class', 2113, 'individual', 0, 'ontology', 0, 'property', 0], 'subset': ['NCIthesaurus', 1037, 'DO_rare_slim', 83, 'gram-negative_bacterial_infectious_disease', 74, 'zoonotic_infectious_disease', 63, 'DO_FlyBase_slim', 58, 'DO_cancer_slim', 50, 'TopNodes_DOcancerslim', 42, 'gram-positive_bacterial_infectious_disease', 42, 'DO_RAD_slim', 41, 'DO_CFDE_slim', 24, 'sexually_transmitted_infectious_disease', 24, 'tick-borne_infectious_disease', 17, 'DO_AGR_slim', 11, 'DO_MGI_slim', 11, 'DO_GXD_slim', 10, 'GOLD', 7, 'DO_IEDB_slim', 6, '1_STAR', 0, '2_STAR', 0, '3_STAR', 0, 'Alliance_of_Genome_Resources', 0, 'Allium_porrum', 0, 'Angiosperm', 0, 'Arabidopsis', 0, 'AspGD', 0, 'BDS_subset', 0, 'BrainName', 0, 'Bryophytes', 0, 'CGD', 0, 'CL', 0, 'Citrus', 0, 'CryptoGD', 0, 'Cucurbita', 0, 'CvDC_Terms', 0, 'DBVAR', 0, 'Drugable', 0, 'EmbDevSlim', 0, 'EnvO-Lite-GSC', 0, 'Europhenome_Terms', 0, 'FB_gloss', 0, 'FT_new', 0, 'FlyTed', 0, 'Gymnosperms', 0, 'Hordeum_vulgare', 0, 'IMPC', 0, 'IMPC_Prenatal', 0, 'Maize', 0, 'Musa', 0, 'NCIT_C100096', 0, 'NCIT_C100110', 0, 'NCIT_C100129', 0, 'NCIT_C100130', 0, 'NCIT_C100131', 0, 'NCIT_C100132', 0, 'NCIT_C100133', 0, 'NCIT_C100134', 0, 'NCIT_C100135', 0, 'NCIT_C100136', 0, 'NCIT_C100137', 0, 'NCIT_C100138', 0, 'NCIT_C100139', 0, 'NCIT_C100140', 0, 'NCIT_C100141', 0, 'NCIT_C100142', 0, 'NCIT_C100143', 0, 'NCIT_C100144', 0, 'NCIT_C100147', 0, 'NCIT_C100148', 0, 'NCIT_C100151', 0, 'NCIT_C100152', 0, 'NCIT_C100153', 0, 'NCIT_C100154', 0, 'NCIT_C100155', 0, 'NCIT_C100156', 0, 'NCIT_C100157', 0, 'NCIT_C100158', 0, 'NCIT_C100159', 0, 'NCIT_C100160', 0, 'NCIT_C100161', 0, 'NCIT_C100162', 0, 'NCIT_C100163', 0, 'NCIT_C100164', 0, 'NCIT_C100165', 0, 'NCIT_C100166', 0, 'NCIT_C100167', 0, 'NCIT_C100168', 0, 'NCIT_C100169', 0, 'NCIT_C100170', 0, 'NCIT_C100173', 0, 'NCIT_C100174', 0, 'NCIT_C100175', 0, 'NCIT_C100176', 0, 'NCIT_C100760', 0, 'NCIT_C100763', 0, 'NCIT_C101805', 0, 'NCIT_C101806', 0, 'NCIT_C101807', 0, 'NCIT_C101808', 0, 'NCIT_C101809', 0, 'NCIT_C101810', 0], 'is_defining_ontology': ['true', 2113, 'false', 0], 'is_obsolete': ['false', 2113, 'true', 0]}, 'facet_dates': {}, 'facet_ranges': {}, 'facet_intervals': {}, 'facet_heatmaps': {}}, 'highlighting': {'doid:class:http://purl.obolibrary.org/obo/DOID_13575': {}, 'doid:class:http://purl.obolibrary.org/obo/DOID_9754': {}, 'doid:class:http://purl.obolibrary.org/obo/DOID_11283': {}, 'doid:class:http://purl.obolibrary.org/obo/DOID_11129': {}, 'doid:class:http://purl.obolibrary.org/obo/DOID_8646': {}, 'doid:class:http://purl.obolibrary.org/obo/DOID_13629': {}, 'doid:class:http://purl.obolibrary.org/obo/DOID_9868': {}, 'doid:class:http://purl.obolibrary.org/obo/DOID_13658': {}, 'doid:class:http://purl.obolibrary.org/obo/DOID_561': {}, 'doid:class:http://purl.obolibrary.org/obo/DOID_251': {}, 'doid:class:http://purl.obolibrary.org/obo/DOID_1829': {}, 'doid:class:http://purl.obolibrary.org/obo/DOID_12475': {}, 'doid:class:http://purl.obolibrary.org/obo/DOID_11184': {}, 'doid:class:http://purl.obolibrary.org/obo/DOID_1203': {}, 'doid:class:http://purl.obolibrary.org/obo/DOID_14140': {}, 'doid:class:http://purl.obolibrary.org/obo/DOID_312': {}, 'doid:class:http://purl.obolibrary.org/obo/DOID_14252': {}, 'doid:class:http://purl.obolibrary.org/obo/DOID_14253': {}, 'doid:class:http://purl.obolibrary.org/obo/DOID_14559': {}, 'doid:class:http://purl.obolibrary.org/obo/DOID_13239': {}, 'doid:class:http://purl.obolibrary.org/obo/DOID_9459': {}, 'doid:class:http://purl.obolibrary.org/obo/DOID_9407': {}, 'doid:class:http://purl.obolibrary.org/obo/DOID_11518': {}, 'doid:class:http://purl.obolibrary.org/obo/DOID_10266': {}, 'doid:class:http://purl.obolibrary.org/obo/DOID_5129': {}, 'doid:class:http://purl.obolibrary.org/obo/DOID_10648': {}, 'doid:class:http://purl.obolibrary.org/obo/DOID_10649': {}, 'doid:class:http://purl.obolibrary.org/obo/DOID_2497': {}, 'doid:class:http://purl.obolibrary.org/obo/DOID_1159': {}, 'doid:class:http://purl.obolibrary.org/obo/DOID_2088': {}, 'doid:class:http://purl.obolibrary.org/obo/DOID_3508': {}, 'doid:class:http://purl.obolibrary.org/obo/DOID_11786': {}, 'doid:class:http://purl.obolibrary.org/obo/DOID_10175': {}, 'doid:class:http://purl.obolibrary.org/obo/DOID_13112': {}, 'doid:class:http://purl.obolibrary.org/obo/DOID_13113': {}, 'doid:class:http://purl.obolibrary.org/obo/DOID_13121': {}, 'doid:class:http://purl.obolibrary.org/obo/DOID_13127': {}, 'doid:class:http://purl.obolibrary.org/obo/DOID_13135': {}, 'doid:class:http://purl.obolibrary.org/obo/DOID_13143': {}, 'doid:class:http://purl.obolibrary.org/obo/DOID_9384': {}, 'doid:class:http://purl.obolibrary.org/obo/DOID_9341': {}, 'doid:class:http://purl.obolibrary.org/obo/DOID_9336': {}, 'doid:class:http://purl.obolibrary.org/obo/DOID_9339': {}, 'doid:class:http://purl.obolibrary.org/obo/DOID_9306': {}, 'doid:class:http://purl.obolibrary.org/obo/DOID_13507': {}, 'doid:class:http://purl.obolibrary.org/obo/DOID_13520': {}, 'doid:class:http://purl.obolibrary.org/obo/DOID_12108': {}, 'doid:class:http://purl.obolibrary.org/obo/DOID_13446': {}, 'doid:class:http://purl.obolibrary.org/obo/DOID_12125': {}, 'doid:class:http://purl.obolibrary.org/obo/DOID_12145': {}, 'doid:class:http://purl.obolibrary.org/obo/DOID_13498': {}, 'doid:class:http://purl.obolibrary.org/obo/DOID_12167': {}, 'doid:class:http://purl.obolibrary.org/obo/DOID_12196': {}, 'doid:class:http://purl.obolibrary.org/obo/DOID_9277': {}, 'doid:class:http://purl.obolibrary.org/obo/DOID_13419': {}, 'doid:class:http://purl.obolibrary.org/obo/DOID_13329': {}, 'doid:class:http://purl.obolibrary.org/obo/DOID_13326': {}, 'doid:class:http://purl.obolibrary.org/obo/DOID_13341': {}, 'doid:class:http://purl.obolibrary.org/obo/DOID_13353': {}, 'doid:class:http://purl.obolibrary.org/obo/DOID_13356': {}, 'doid:class:http://purl.obolibrary.org/obo/DOID_12326': {}, 'doid:class:http://purl.obolibrary.org/obo/DOID_13656': {}, 'doid:class:http://purl.obolibrary.org/obo/DOID_13653': {}, 'doid:class:http://purl.obolibrary.org/obo/DOID_9843': {}, 'doid:class:http://purl.obolibrary.org/obo/DOID_8512': {}, 'doid:class:http://purl.obolibrary.org/obo/DOID_9841': {}, 'doid:class:http://purl.obolibrary.org/obo/DOID_8516': {}, 'doid:class:http://purl.obolibrary.org/obo/DOID_8514': {}, 'doid:class:http://purl.obolibrary.org/obo/DOID_8517': {}, 'doid:class:http://purl.obolibrary.org/obo/DOID_12336': {}, 'doid:class:http://purl.obolibrary.org/obo/DOID_9858': {}, 'doid:class:http://purl.obolibrary.org/obo/DOID_12225': {}, 'doid:class:http://purl.obolibrary.org/obo/DOID_8500': {}, 'doid:class:http://purl.obolibrary.org/obo/DOID_9839': {}, 'doid:class:http://purl.obolibrary.org/obo/DOID_9838': {}, 'doid:class:http://purl.obolibrary.org/obo/DOID_12257': {}, 'doid:class:http://purl.obolibrary.org/obo/DOID_9811': {}, 'doid:class:http://purl.obolibrary.org/obo/DOID_13919': {}, 'doid:class:http://purl.obolibrary.org/obo/DOID_13943': {}, 'doid:class:http://purl.obolibrary.org/obo/DOID_9794': {}, 'doid:class:http://purl.obolibrary.org/obo/DOID_8464': {}, 'doid:class:http://purl.obolibrary.org/obo/DOID_9799': {}, 'doid:class:http://purl.obolibrary.org/obo/DOID_9771': {}, 'doid:class:http://purl.obolibrary.org/obo/DOID_9776': {}, 'doid:class:http://purl.obolibrary.org/obo/DOID_9775': {}, 'doid:class:http://purl.obolibrary.org/obo/DOID_9779': {}, 'doid:class:http://purl.obolibrary.org/obo/DOID_8448': {}, 'doid:class:http://purl.obolibrary.org/obo/DOID_13999': {}, 'doid:class:http://purl.obolibrary.org/obo/DOID_12668': {}, 'doid:class:http://purl.obolibrary.org/obo/DOID_9740': {}, 'doid:class:http://purl.obolibrary.org/obo/DOID_9743': {}, 'doid:class:http://purl.obolibrary.org/obo/DOID_9741': {}, 'doid:class:http://purl.obolibrary.org/obo/DOID_9722': {}, 'doid:class:http://purl.obolibrary.org/obo/DOID_9724': {}, 'doid:class:http://purl.obolibrary.org/obo/DOID_9709': {}, 'doid:class:http://purl.obolibrary.org/obo/DOID_11269': {}, 'doid:class:http://purl.obolibrary.org/obo/DOID_9717': {}, 'doid:class:http://purl.obolibrary.org/obo/DOID_11295': {}, 'doid:class:http://purl.obolibrary.org/obo/DOID_12072': {}, 'doid:class:http://purl.obolibrary.org/obo/DOID_9191': {}, 'doid:class:http://purl.obolibrary.org/obo/DOID_8696': {}, 'doid:class:http://purl.obolibrary.org/obo/DOID_13732': {}, 'doid:class:http://purl.obolibrary.org/obo/DOID_13731': {}, 'doid:class:http://purl.obolibrary.org/obo/DOID_8681': {}, 'doid:class:http://purl.obolibrary.org/obo/DOID_13756': {}, 'doid:class:http://purl.obolibrary.org/obo/DOID_13789': {}, 'doid:class:http://purl.obolibrary.org/obo/DOID_13788': {}, 'doid:class:http://purl.obolibrary.org/obo/DOID_9978': {}, 'doid:class:http://purl.obolibrary.org/obo/DOID_13676': {}, 'doid:class:http://purl.obolibrary.org/obo/DOID_9945': {}, 'doid:class:http://purl.obolibrary.org/obo/DOID_9948': {}, 'doid:class:http://purl.obolibrary.org/obo/DOID_12359': {}, 'doid:class:http://purl.obolibrary.org/obo/DOID_11028': {}, 'doid:class:http://purl.obolibrary.org/obo/DOID_13687': {}, 'doid:class:http://purl.obolibrary.org/obo/DOID_12355': {}, 'doid:class:http://purl.obolibrary.org/obo/DOID_11032': {}, 'doid:class:http://purl.obolibrary.org/obo/DOID_12364': {}, 'doid:class:http://purl.obolibrary.org/obo/DOID_11033': {}, 'doid:class:http://purl.obolibrary.org/obo/DOID_12362': {}, 'doid:class:http://purl.obolibrary.org/obo/DOID_11031': {}, 'doid:class:http://purl.obolibrary.org/obo/DOID_11034': {}, 'doid:class:http://purl.obolibrary.org/obo/DOID_9937': {}, 'doid:class:http://purl.obolibrary.org/obo/DOID_9936': {}, 'doid:class:http://purl.obolibrary.org/obo/DOID_9908': {}, 'doid:class:http://purl.obolibrary.org/obo/DOID_12395': {}, 'doid:class:http://purl.obolibrary.org/obo/DOID_9911': {}, 'doid:class:http://purl.obolibrary.org/obo/DOID_11086': {}, 'doid:class:http://purl.obolibrary.org/obo/DOID_8574': {}, 'doid:class:http://purl.obolibrary.org/obo/DOID_9888': {}, 'doid:class:http://purl.obolibrary.org/obo/DOID_13626': {}, 'doid:class:http://purl.obolibrary.org/obo/DOID_9893': {}, 'doid:class:http://purl.obolibrary.org/obo/DOID_12304': {}, 'doid:class:http://purl.obolibrary.org/obo/DOID_13649': {}, 'doid:class:http://purl.obolibrary.org/obo/DOID_9877': {}, 'doid:class:http://purl.obolibrary.org/obo/DOID_13651': {}, 'doid:class:http://purl.obolibrary.org/obo/DOID_572': {}, 'doid:class:http://purl.obolibrary.org/obo/DOID_571': {}, 'doid:class:http://purl.obolibrary.org/obo/DOID_566': {}, 'doid:class:http://purl.obolibrary.org/obo/DOID_559': {}, 'doid:class:http://purl.obolibrary.org/obo/DOID_1979': {}, 'doid:class:http://purl.obolibrary.org/obo/DOID_538': {}, 'doid:class:http://purl.obolibrary.org/obo/DOID_528': {}, 'doid:class:http://purl.obolibrary.org/obo/DOID_14006': {}, 'doid:class:http://purl.obolibrary.org/obo/DOID_14000': {}, 'doid:class:http://purl.obolibrary.org/obo/DOID_14022': {}, 'doid:class:http://purl.obolibrary.org/obo/DOID_14075': {}, 'doid:class:http://purl.obolibrary.org/obo/DOID_214': {}, 'doid:class:http://purl.obolibrary.org/obo/DOID_1893': {}, 'doid:class:http://purl.obolibrary.org/obo/DOID_1869': {}, 'doid:class:http://purl.obolibrary.org/obo/DOID_1822': {}, 'doid:class:http://purl.obolibrary.org/obo/DOID_1802': {}, 'doid:class:http://purl.obolibrary.org/obo/DOID_9698': {}, 'doid:class:http://purl.obolibrary.org/obo/DOID_9697': {}, 'doid:class:http://purl.obolibrary.org/obo/DOID_13825': {}, 'doid:class:http://purl.obolibrary.org/obo/DOID_13839': {}, 'doid:class:http://purl.obolibrary.org/obo/DOID_12528': {}, 'doid:class:http://purl.obolibrary.org/obo/DOID_12527': {}, 'doid:class:http://purl.obolibrary.org/obo/DOID_9651': {}, 'doid:class:http://purl.obolibrary.org/obo/DOID_11217': {}, 'doid:class:http://purl.obolibrary.org/obo/DOID_12546': {}, 'doid:class:http://purl.obolibrary.org/obo/DOID_9622': {}, 'doid:class:http://purl.obolibrary.org/obo/DOID_9621': {}, 'doid:class:http://purl.obolibrary.org/obo/DOID_13794': {}, 'doid:class:http://purl.obolibrary.org/obo/DOID_11130': {}, 'doid:class:http://purl.obolibrary.org/obo/DOID_11177': {}, 'doid:class:http://purl.obolibrary.org/obo/DOID_11189': {}, 'doid:class:http://purl.obolibrary.org/obo/DOID_1428': {}, 'doid:class:http://purl.obolibrary.org/obo/DOID_1436': {}, 'doid:class:http://purl.obolibrary.org/obo/DOID_2743': {}, 'doid:class:http://purl.obolibrary.org/obo/DOID_1399': {}, 'doid:class:http://purl.obolibrary.org/obo/DOID_782': {}, 'doid:class:http://purl.obolibrary.org/obo/DOID_3951': {}, 'doid:class:http://purl.obolibrary.org/obo/DOID_727': {}, 'doid:class:http://purl.obolibrary.org/obo/DOID_1227': {}, 'doid:class:http://purl.obolibrary.org/obo/DOID_1237': {}, 'doid:class:http://purl.obolibrary.org/obo/DOID_2537': {}, 'doid:class:http://purl.obolibrary.org/obo/DOID_1214': {}, 'doid:class:http://purl.obolibrary.org/obo/DOID_436': {}, 'doid:class:http://purl.obolibrary.org/obo/DOID_9140': {}, 'doid:class:http://purl.obolibrary.org/obo/DOID_14155': {}, 'doid:class:http://purl.obolibrary.org/obo/DOID_9076': {}, 'doid:class:http://purl.obolibrary.org/obo/DOID_14181': {}, 'doid:class:http://purl.obolibrary.org/obo/DOID_14184': {}, 'doid:class:http://purl.obolibrary.org/obo/DOID_14192': {}, 'doid:class:http://purl.obolibrary.org/obo/DOID_14199': {}, 'doid:class:http://purl.obolibrary.org/obo/DOID_1569': {}, 'doid:class:http://purl.obolibrary.org/obo/DOID_1571': {}, 'doid:class:http://purl.obolibrary.org/obo/DOID_2879': {}, 'doid:class:http://purl.obolibrary.org/obo/DOID_1529': {}, 'doid:class:http://purl.obolibrary.org/obo/DOID_979': {}, 'doid:class:http://purl.obolibrary.org/obo/DOID_952': {}, 'doid:class:http://purl.obolibrary.org/obo/DOID_949': {}, 'doid:class:http://purl.obolibrary.org/obo/DOID_981': {}, 'doid:class:http://purl.obolibrary.org/obo/DOID_14353': {}, 'doid:class:http://purl.obolibrary.org/obo/DOID_13031': {}, 'doid:class:http://purl.obolibrary.org/obo/DOID_13038': {}, 'doid:class:http://purl.obolibrary.org/obo/DOID_13037': {}, 'doid:class:http://purl.obolibrary.org/obo/DOID_342': {}, 'doid:class:http://purl.obolibrary.org/obo/DOID_1713': {}, 'doid:class:http://purl.obolibrary.org/obo/DOID_14233': {}, 'doid:class:http://purl.obolibrary.org/obo/DOID_14244': {}, 'doid:class:http://purl.obolibrary.org/obo/DOID_1680': {}, 'doid:class:http://purl.obolibrary.org/obo/DOID_6590': {}, 'doid:class:http://purl.obolibrary.org/obo/DOID_10719': {}, 'doid:class:http://purl.obolibrary.org/obo/DOID_9540': {}, 'doid:class:http://purl.obolibrary.org/obo/DOID_9512': {}, 'doid:class:http://purl.obolibrary.org/obo/DOID_14529': {}, 'doid:class:http://purl.obolibrary.org/obo/DOID_13207': {}, 'doid:class:http://purl.obolibrary.org/obo/DOID_14555': {}, 'doid:class:http://purl.obolibrary.org/obo/DOID_9496': {}, 'doid:class:http://purl.obolibrary.org/obo/DOID_9483': {}, 'doid:class:http://purl.obolibrary.org/obo/DOID_9473': {}, 'doid:class:http://purl.obolibrary.org/obo/DOID_9401': {}, 'doid:class:http://purl.obolibrary.org/obo/DOID_9408': {}, 'doid:class:http://purl.obolibrary.org/obo/DOID_14402': {}, 'doid:class:http://purl.obolibrary.org/obo/DOID_12836': {}, 'doid:class:http://purl.obolibrary.org/obo/DOID_11543': {}, 'doid:class:http://purl.obolibrary.org/obo/DOID_10211': {}, 'doid:class:http://purl.obolibrary.org/obo/DOID_5199': {}, 'doid:class:http://purl.obolibrary.org/obo/DOID_11594': {}, 'doid:class:http://purl.obolibrary.org/obo/DOID_10261': {}, 'doid:class:http://purl.obolibrary.org/obo/DOID_7736': {}, 'doid:class:http://purl.obolibrary.org/obo/DOID_12753': {}, 'doid:class:http://purl.obolibrary.org/obo/DOID_5083': {}, 'doid:class:http://purl.obolibrary.org/obo/DOID_12782': {}, 'doid:class:http://purl.obolibrary.org/obo/DOID_10139': {}, 'doid:class:http://purl.obolibrary.org/obo/DOID_11465': {}, 'doid:class:http://purl.obolibrary.org/obo/DOID_11871': {}, 'doid:class:http://purl.obolibrary.org/obo/DOID_10575': {}, 'doid:class:http://purl.obolibrary.org/obo/DOID_10846': {}, 'doid:class:http://purl.obolibrary.org/obo/DOID_4030': {}, 'doid:class:http://purl.obolibrary.org/obo/DOID_10810': {}, 'doid:class:http://purl.obolibrary.org/obo/DOID_10835': {}, 'doid:class:http://purl.obolibrary.org/obo/DOID_10742': {}, 'doid:class:http://purl.obolibrary.org/obo/DOID_5782': {}, 'doid:class:http://purl.obolibrary.org/obo/DOID_5781': {}, 'doid:class:http://purl.obolibrary.org/obo/DOID_3096': {}, 'doid:class:http://purl.obolibrary.org/obo/DOID_11685': {}, 'doid:class:http://purl.obolibrary.org/obo/DOID_10361': {}, 'doid:class:http://purl.obolibrary.org/obo/DOID_8787': {}, 'doid:class:http://purl.obolibrary.org/obo/DOID_10293': {}, 'doid:class:http://purl.obolibrary.org/obo/DOID_10627': {}, 'doid:class:http://purl.obolibrary.org/obo/DOID_10651': {}, 'doid:class:http://purl.obolibrary.org/obo/DOID_11988': {}, 'doid:class:http://purl.obolibrary.org/obo/DOID_11994': {}, 'doid:class:http://purl.obolibrary.org/obo/DOID_10697': {}, 'doid:class:http://purl.obolibrary.org/obo/DOID_4250': {}, 'doid:class:http://purl.obolibrary.org/obo/DOID_11853': {}, 'doid:class:http://purl.obolibrary.org/obo/DOID_11850': {}, 'doid:class:http://purl.obolibrary.org/obo/DOID_11864': {}, 'doid:class:http://purl.obolibrary.org/obo/DOID_6970': {}, 'doid:class:http://purl.obolibrary.org/obo/DOID_6929': {}, 'doid:class:http://purl.obolibrary.org/obo/DOID_1142': {}, 'doid:class:http://purl.obolibrary.org/obo/DOID_2460': {}, 'doid:class:http://purl.obolibrary.org/obo/DOID_2092': {}, 'doid:class:http://purl.obolibrary.org/obo/DOID_4664': {}, 'doid:class:http://purl.obolibrary.org/obo/DOID_10963': {}, 'doid:class:http://purl.obolibrary.org/obo/DOID_1076': {}, 'doid:class:http://purl.obolibrary.org/obo/DOID_2301': {}, 'doid:class:http://purl.obolibrary.org/obo/DOID_2251': {}, 'doid:class:http://purl.obolibrary.org/obo/DOID_4873': {}, 'doid:class:http://purl.obolibrary.org/obo/DOID_11374': {}, 'doid:class:http://purl.obolibrary.org/obo/DOID_11382': {}, 'doid:class:http://purl.obolibrary.org/obo/DOID_11390': {}, 'doid:class:http://purl.obolibrary.org/obo/DOID_11736': {}, 'doid:class:http://purl.obolibrary.org/obo/DOID_11752': {}, 'doid:class:http://purl.obolibrary.org/obo/DOID_11766': {}, 'doid:class:http://purl.obolibrary.org/obo/DOID_10442': {}, 'doid:class:http://purl.obolibrary.org/obo/DOID_10443': {}, 'doid:class:http://purl.obolibrary.org/obo/DOID_11772': {}, 'doid:class:http://purl.obolibrary.org/obo/DOID_11781': {}, 'doid:class:http://purl.obolibrary.org/obo/DOID_11787': {}, 'doid:class:http://purl.obolibrary.org/obo/DOID_11793': {}, 'doid:class:http://purl.obolibrary.org/obo/DOID_10499': {}, 'doid:class:http://purl.obolibrary.org/obo/DOID_8883': {}, 'doid:class:http://purl.obolibrary.org/obo/DOID_12959': {}, 'doid:class:http://purl.obolibrary.org/obo/DOID_12958': {}, 'doid:class:http://purl.obolibrary.org/obo/DOID_11638': {}, 'doid:class:http://purl.obolibrary.org/obo/DOID_11653': {}, 'doid:class:http://purl.obolibrary.org/obo/DOID_12997': {}, 'doid:class:http://purl.obolibrary.org/obo/DOID_11669': {}, 'doid:class:http://purl.obolibrary.org/obo/DOID_11671': {}, 'doid:class:http://purl.obolibrary.org/obo/DOID_10341': {}, 'doid:class:http://purl.obolibrary.org/obo/DOID_8630': {}, 'doid:class:http://purl.obolibrary.org/obo/DOID_813': {}, 'doid:class:http://purl.obolibrary.org/obo/DOID_8649': {}, 'doid:class:http://purl.obolibrary.org/obo/DOID_9396': {}, 'doid:class:http://purl.obolibrary.org/obo/DOID_9383': {}, 'doid:class:http://purl.obolibrary.org/obo/DOID_8687': {}, 'doid:class:http://purl.obolibrary.org/obo/DOID_11747': {}, 'doid:class:http://purl.obolibrary.org/obo/DOID_14443': {}, 'doid:class:http://purl.obolibrary.org/obo/DOID_13138': {}, 'doid:class:http://purl.obolibrary.org/obo/DOID_0040085': {}, 'doid:class:http://purl.obolibrary.org/obo/DOID_0040084': {}, 'doid:class:http://purl.obolibrary.org/obo/DOID_0040083': {}, 'doid:class:http://purl.obolibrary.org/obo/DOID_0040099': {}, 'doid:class:http://purl.obolibrary.org/obo/DOID_13174': {}, 'doid:class:http://purl.obolibrary.org/obo/DOID_9388': {}, 'doid:class:http://purl.obolibrary.org/obo/DOID_9365': {}, 'doid:class:http://purl.obolibrary.org/obo/DOID_9368': {}, 'doid:class:http://purl.obolibrary.org/obo/DOID_9378': {}, 'doid:class:http://purl.obolibrary.org/obo/DOID_9346': {}, 'doid:class:http://purl.obolibrary.org/obo/DOID_9358': {}, 'doid:class:http://purl.obolibrary.org/obo/DOID_9307': {}, 'doid:class:http://purl.obolibrary.org/obo/DOID_13448': {}, 'doid:class:http://purl.obolibrary.org/obo/DOID_13447': {}, 'doid:class:http://purl.obolibrary.org/obo/DOID_13453': {}, 'doid:class:http://purl.obolibrary.org/obo/DOID_13452': {}, 'doid:class:http://purl.obolibrary.org/obo/DOID_12123': {}, 'doid:class:http://purl.obolibrary.org/obo/DOID_13461': {}, 'doid:class:http://purl.obolibrary.org/obo/DOID_12165': {}, 'doid:class:http://purl.obolibrary.org/obo/DOID_12163': {}, 'doid:class:http://purl.obolibrary.org/obo/DOID_12161': {}, 'doid:class:http://purl.obolibrary.org/obo/DOID_12168': {}, 'doid:class:http://purl.obolibrary.org/obo/DOID_12175': {}, 'doid:class:http://purl.obolibrary.org/obo/DOID_13409': {}, 'doid:class:http://purl.obolibrary.org/obo/DOID_14654': {}, 'doid:class:http://purl.obolibrary.org/obo/DOID_13333': {}, 'doid:class:http://purl.obolibrary.org/obo/DOID_12010': {}, 'doid:class:http://purl.obolibrary.org/obo/DOID_13351': {}, 'doid:class:http://purl.obolibrary.org/obo/DOID_12325': {}, 'doid:class:http://purl.obolibrary.org/obo/DOID_13654': {}, 'doid:class:http://purl.obolibrary.org/obo/DOID_9842': {}, 'doid:class:http://purl.obolibrary.org/obo/DOID_13662': {}, 'doid:class:http://purl.obolibrary.org/obo/DOID_12337': {}, 'doid:class:http://purl.obolibrary.org/obo/DOID_12335': {}, 'doid:class:http://purl.obolibrary.org/obo/DOID_12333': {}, 'doid:class:http://purl.obolibrary.org/obo/DOID_9854': {}, 'doid:class:http://purl.obolibrary.org/obo/DOID_9820': {}, 'doid:class:http://purl.obolibrary.org/obo/DOID_13566': {}, 'doid:class:http://purl.obolibrary.org/obo/DOID_12234': {}, 'doid:class:http://purl.obolibrary.org/obo/DOID_9834': {}, 'doid:class:http://purl.obolibrary.org/obo/DOID_8507': {}, 'doid:class:http://purl.obolibrary.org/obo/DOID_9837': {}, 'doid:class:http://purl.obolibrary.org/obo/DOID_12246': {}, 'doid:class:http://purl.obolibrary.org/obo/DOID_12265': {}, 'doid:class:http://purl.obolibrary.org/obo/DOID_12273': {}, 'doid:class:http://purl.obolibrary.org/obo/DOID_13910': {}, 'doid:class:http://purl.obolibrary.org/obo/DOID_13913': {}, 'doid:class:http://purl.obolibrary.org/obo/DOID_13942': {}, 'doid:class:http://purl.obolibrary.org/obo/DOID_9788': {}, 'doid:class:http://purl.obolibrary.org/obo/DOID_7127': {}, 'doid:class:http://purl.obolibrary.org/obo/DOID_8463': {}, 'doid:class:http://purl.obolibrary.org/obo/DOID_8465': {}, 'doid:class:http://purl.obolibrary.org/obo/DOID_11316': {}, 'doid:class:http://purl.obolibrary.org/obo/DOID_12641': {}, 'doid:class:http://purl.obolibrary.org/obo/DOID_8439': {}, 'doid:class:http://purl.obolibrary.org/obo/DOID_8437': {}, 'doid:class:http://purl.obolibrary.org/obo/DOID_12657': {}, 'doid:class:http://purl.obolibrary.org/obo/DOID_8442': {}, 'doid:class:http://purl.obolibrary.org/obo/DOID_11330': {}, 'doid:class:http://purl.obolibrary.org/obo/DOID_9745': {}, 'doid:class:http://purl.obolibrary.org/obo/DOID_9749': {}, 'doid:class:http://purl.obolibrary.org/obo/DOID_12678': {}, 'doid:class:http://purl.obolibrary.org/obo/DOID_11354': {}, 'doid:class:http://purl.obolibrary.org/obo/DOID_11364': {}, 'doid:class:http://purl.obolibrary.org/obo/DOID_9735': {}, 'doid:class:http://purl.obolibrary.org/obo/DOID_11267': {}, 'doid:class:http://purl.obolibrary.org/obo/DOID_9714': {}, 'doid:class:http://purl.obolibrary.org/obo/DOID_11282': {}, 'doid:class:http://purl.obolibrary.org/obo/DOID_11299': {}, 'doid:class:http://purl.obolibrary.org/obo/DOID_12043': {}, 'doid:class:http://purl.obolibrary.org/obo/DOID_12055': {}, 'doid:class:http://purl.obolibrary.org/obo/DOID_12087': {}, 'doid:class:http://purl.obolibrary.org/obo/DOID_13709': {}, 'doid:class:http://purl.obolibrary.org/obo/DOID_8672': {}, 'doid:class:http://purl.obolibrary.org/obo/DOID_13739': {}, 'doid:class:http://purl.obolibrary.org/obo/DOID_13738': {}, 'doid:class:http://purl.obolibrary.org/obo/DOID_12424': {}, 'doid:class:http://purl.obolibrary.org/obo/DOID_8654': {}, 'doid:class:http://purl.obolibrary.org/obo/DOID_12445': {}, 'doid:class:http://purl.obolibrary.org/obo/DOID_11111': {}, 'doid:class:http://purl.obolibrary.org/obo/DOID_8633': {}, 'doid:class:http://purl.obolibrary.org/obo/DOID_11120': {}, 'doid:class:http://purl.obolibrary.org/obo/DOID_11121': {}, 'doid:class:http://purl.obolibrary.org/obo/DOID_13781': {}, 'doid:class:http://purl.obolibrary.org/obo/DOID_11126': {}, 'doid:class:http://purl.obolibrary.org/obo/DOID_11125': {}, 'doid:class:http://purl.obolibrary.org/obo/DOID_8645': {}, 'doid:class:http://purl.obolibrary.org/obo/DOID_12349': {}, 'doid:class:http://purl.obolibrary.org/obo/DOID_11029': {}, 'doid:class:http://purl.obolibrary.org/obo/DOID_12363': {}, 'doid:class:http://purl.obolibrary.org/obo/DOID_11030': {}, 'doid:class:http://purl.obolibrary.org/obo/DOID_12360': {}, 'doid:class:http://purl.obolibrary.org/obo/DOID_11036': {}, 'doid:class:http://purl.obolibrary.org/obo/DOID_9939': {}, 'doid:class:http://purl.obolibrary.org/obo/DOID_12397': {}, 'doid:class:http://purl.obolibrary.org/obo/DOID_8593': {}, 'doid:class:http://purl.obolibrary.org/obo/DOID_8573': {}, 'doid:class:http://purl.obolibrary.org/obo/DOID_7224': {}, 'doid:class:http://purl.obolibrary.org/obo/DOID_8556': {}, 'doid:class:http://purl.obolibrary.org/obo/DOID_8553': {}, 'doid:class:http://purl.obolibrary.org/obo/DOID_8557': {}, 'doid:class:http://purl.obolibrary.org/obo/DOID_12307': {}, 'doid:class:http://purl.obolibrary.org/obo/DOID_9867': {}, 'doid:class:http://purl.obolibrary.org/obo/DOID_12311': {}, 'doid:class:http://purl.obolibrary.org/obo/DOID_14096': {}, 'doid:class:http://purl.obolibrary.org/obo/DOID_14099': {}, 'doid:class:http://purl.obolibrary.org/obo/DOID_9021': {}, 'doid:class:http://purl.obolibrary.org/obo/DOID_582': {}, 'doid:class:http://purl.obolibrary.org/obo/DOID_1942': {}, 'doid:class:http://purl.obolibrary.org/obo/DOID_1943': {}, 'doid:class:http://purl.obolibrary.org/obo/DOID_1936': {}, 'doid:class:http://purl.obolibrary.org/obo/DOID_533': {}, 'doid:class:http://purl.obolibrary.org/obo/DOID_14043': {}, 'doid:class:http://purl.obolibrary.org/obo/DOID_14070': {}, 'doid:class:http://purl.obolibrary.org/obo/DOID_1894': {}, 'doid:class:http://purl.obolibrary.org/obo/DOID_1844': {}, 'doid:class:http://purl.obolibrary.org/obo/DOID_223': {}, 'doid:class:http://purl.obolibrary.org/obo/DOID_1835': {}, 'doid:class:http://purl.obolibrary.org/obo/DOID_13823': {}, 'doid:class:http://purl.obolibrary.org/obo/DOID_13822': {}, 'doid:class:http://purl.obolibrary.org/obo/DOID_12526': {}, 'doid:class:http://purl.obolibrary.org/obo/DOID_12524': {}, 'doid:class:http://purl.obolibrary.org/obo/DOID_12537': {}, 'doid:class:http://purl.obolibrary.org/obo/DOID_11203': {}, 'doid:class:http://purl.obolibrary.org/obo/DOID_9650': {}, 'doid:class:http://purl.obolibrary.org/obo/DOID_12558': {}, 'doid:class:http://purl.obolibrary.org/obo/DOID_11230': {}, 'doid:class:http://purl.obolibrary.org/obo/DOID_9602': {}, 'doid:class:http://purl.obolibrary.org/obo/DOID_12573': {}, 'doid:class:http://purl.obolibrary.org/obo/DOID_11242': {}, 'doid:class:http://purl.obolibrary.org/obo/DOID_11245': {}, 'doid:class:http://purl.obolibrary.org/obo/DOID_11246': {}, 'doid:class:http://purl.obolibrary.org/obo/DOID_11243': {}, 'doid:class:http://purl.obolibrary.org/obo/DOID_9617': {}, 'doid:class:http://purl.obolibrary.org/obo/DOID_13790': {}, 'doid:class:http://purl.obolibrary.org/obo/DOID_12465': {}, 'doid:class:http://purl.obolibrary.org/obo/DOID_11133': {}, 'doid:class:http://purl.obolibrary.org/obo/DOID_11134': {}, 'doid:class:http://purl.obolibrary.org/obo/DOID_11175': {}, 'doid:class:http://purl.obolibrary.org/obo/DOID_1677': {}, 'doid:class:http://purl.obolibrary.org/obo/DOID_681': {}, 'doid:class:http://purl.obolibrary.org/obo/DOID_1404': {}, 'doid:class:http://purl.obolibrary.org/obo/DOID_1417': {}, 'doid:class:http://purl.obolibrary.org/obo/DOID_607': {}, 'doid:class:http://purl.obolibrary.org/obo/DOID_648': {}, 'doid:class:http://purl.obolibrary.org/obo/DOID_1397': {}, 'doid:class:http://purl.obolibrary.org/obo/DOID_1375': {}, 'doid:class:http://purl.obolibrary.org/obo/DOID_1324': {}, 'doid:class:http://purl.obolibrary.org/obo/DOID_790': {}, 'doid:class:http://purl.obolibrary.org/obo/DOID_786': {}, 'doid:class:http://purl.obolibrary.org/obo/DOID_724': {}, 'doid:class:http://purl.obolibrary.org/obo/DOID_1241': {}, 'doid:class:http://purl.obolibrary.org/obo/DOID_1235': {}, 'doid:class:http://purl.obolibrary.org/obo/DOID_2569': {}, 'doid:class:http://purl.obolibrary.org/obo/DOID_2536': {}, 'doid:class:http://purl.obolibrary.org/obo/DOID_14107': {}, 'doid:class:http://purl.obolibrary.org/obo/DOID_14111': {}, 'doid:class:http://purl.obolibrary.org/obo/DOID_9088': {}, 'doid:class:http://purl.obolibrary.org/obo/DOID_14159': {}, 'doid:class:http://purl.obolibrary.org/obo/DOID_14172': {}, 'doid:class:http://purl.obolibrary.org/obo/DOID_14177': {}, 'doid:class:http://purl.obolibrary.org/obo/DOID_14092': {}, 'doid:class:http://purl.obolibrary.org/obo/DOID_876': {}, 'doid:class:http://purl.obolibrary.org/obo/DOID_862': {}, 'doid:class:http://purl.obolibrary.org/obo/DOID_807': {}, 'doid:class:http://purl.obolibrary.org/obo/DOID_1573': {}, 'doid:class:http://purl.obolibrary.org/obo/DOID_1570': {}, 'doid:class:http://purl.obolibrary.org/obo/DOID_2834': {}, 'doid:class:http://purl.obolibrary.org/obo/DOID_950': {}, 'doid:class:http://purl.obolibrary.org/obo/DOID_929': {}, 'doid:class:http://purl.obolibrary.org/obo/DOID_900': {}, 'doid:class:http://purl.obolibrary.org/obo/DOID_1458': {}, 'doid:class:http://purl.obolibrary.org/obo/DOID_1456': {}, 'doid:class:http://purl.obolibrary.org/obo/DOID_13014': {}, 'doid:class:http://purl.obolibrary.org/obo/DOID_13068': {}, 'doid:class:http://purl.obolibrary.org/obo/DOID_14397': {}, 'doid:class:http://purl.obolibrary.org/obo/DOID_146': {}, 'doid:class:http://purl.obolibrary.org/obo/DOID_13088': {}, 'doid:class:http://purl.obolibrary.org/obo/DOID_320': {}, 'doid:class:http://purl.obolibrary.org/obo/DOID_319': {}, 'doid:class:http://purl.obolibrary.org/obo/DOID_1742': {}, 'doid:class:http://purl.obolibrary.org/obo/DOID_1756': {}, 'doid:class:http://purl.obolibrary.org/obo/DOID_1729': {}, 'doid:class:http://purl.obolibrary.org/obo/DOID_14245': {}, 'doid:class:http://purl.obolibrary.org/obo/DOID_14251': {}, 'doid:class:http://purl.obolibrary.org/obo/DOID_5200': {}, 'doid:class:http://purl.obolibrary.org/obo/DOID_9589': {}, 'doid:class:http://purl.obolibrary.org/obo/DOID_14524': {}, 'doid:class:http://purl.obolibrary.org/obo/DOID_13206': {}, 'doid:class:http://purl.obolibrary.org/obo/DOID_14548': {}, 'doid:class:http://purl.obolibrary.org/obo/DOID_13227': {}, 'doid:class:http://purl.obolibrary.org/obo/DOID_13240': {}, 'doid:class:http://purl.obolibrary.org/obo/DOID_13295': {}, 'doid:class:http://purl.obolibrary.org/obo/DOID_9461': {}, 'doid:class:http://purl.obolibrary.org/obo/DOID_9427': {}, 'doid:class:http://purl.obolibrary.org/obo/DOID_9409': {}, 'doid:class:http://purl.obolibrary.org/obo/DOID_14507': {}, 'doid:class:http://purl.obolibrary.org/obo/DOID_14423': {}, 'doid:class:http://purl.obolibrary.org/obo/DOID_14427': {}, 'doid:class:http://purl.obolibrary.org/obo/DOID_12809': {}, 'doid:class:http://purl.obolibrary.org/obo/DOID_12835': {}, 'doid:class:http://purl.obolibrary.org/obo/DOID_11527': {}, 'doid:class:http://purl.obolibrary.org/obo/DOID_0080179': {}, 'doid:class:http://purl.obolibrary.org/obo/DOID_11547': {}, 'doid:class:http://purl.obolibrary.org/obo/DOID_11541': {}, 'doid:class:http://purl.obolibrary.org/obo/DOID_0080176': {}, 'doid:class:http://purl.obolibrary.org/obo/DOID_11552': {}, 'doid:class:http://purl.obolibrary.org/obo/DOID_11561': {}}}\n",
            "                                             iri  ...                                      label\n",
            "0      http://purl.obolibrary.org/obo/DOID_13575  ...    non-renal secondary hyperparathyroidism\n",
            "1       http://purl.obolibrary.org/obo/DOID_9754  ...  ganglion or cyst of synovium/tendon/bursa\n",
            "2      http://purl.obolibrary.org/obo/DOID_11283  ...                 peripheral scars of retina\n",
            "3      http://purl.obolibrary.org/obo/DOID_11129  ...                 dislocation of ear ossicle\n",
            "4       http://purl.obolibrary.org/obo/DOID_8646  ...                substance-induced psychosis\n",
            "..                                           ...  ...                                        ...\n",
            "495    http://purl.obolibrary.org/obo/DOID_11547  ...                            corneal deposit\n",
            "496    http://purl.obolibrary.org/obo/DOID_11541  ...                  recurrent corneal erosion\n",
            "497  http://purl.obolibrary.org/obo/DOID_0080176  ...                   meningococcal meningitis\n",
            "498    http://purl.obolibrary.org/obo/DOID_11552  ...         Bowman's membrane folds or rupture\n",
            "499    http://purl.obolibrary.org/obo/DOID_11561  ...                   hypertensive retinopathy\n",
            "\n",
            "[500 rows x 3 columns]\n"
          ]
        }
      ]
    },
    {
      "cell_type": "code",
      "metadata": {
        "id": "mhhrZYcd3Yeb",
        "colab": {
          "base_uri": "https://localhost:8080/"
        },
        "outputId": "5b4872b4-5154-4691-f81f-ea271f58e0b5"
      },
      "source": [
        "import pandas as pd\n",
        "from tqdm import tqdm,trange\n",
        "# the code below retrieve icd9 code for each iri\n",
        "icdlist = []\n",
        "parentlist = []\n",
        "irilist2 = []\n",
        "synonymlist=[]\n",
        "doidlist=[]\n",
        "for i in trange(len(irilist)):\n",
        "    iri=irilist[i]\n",
        "    iri2 = iri.replace(':', '%253A')\n",
        "    iri2 = iri2.replace('/', '%252F')\n",
        "    \n",
        "    URL2 = 'https://www.ebi.ac.uk/ols/api/ontologies/' + ont + '/terms/' + iri2\n",
        "    # print('URL2', URL2)\n",
        "    r2 = requests.get(url=URL2)\n",
        "    data2 = r2.json()\n",
        "    #print('iri', iri)\n",
        "    #synonym\n",
        "    try:\n",
        "        synonymlist.append(data2['annotation']['has_exact_synonym'])\n",
        "    except KeyError:\n",
        "        synonymlist.append('[null]')\n",
        "    #DOID\n",
        "    doidlist.append(data2['obo_id'].replace('DOID:', ''))\n",
        "\n",
        "    #icd9\n",
        "    for d2 in data2['obo_xref']:\n",
        "        if d2['database'] == 'ICD9CM':\n",
        "            icd_code = d2['id'].replace('.', '')\n",
        "            icdlist.append(icd_code)\n",
        "            break\n",
        "\n",
        "data2 = {'iri': irilist,'DOID':doidlist,'ICD9': icdlist,'Synonym':synonymlist}\n",
        "df2 = pd.DataFrame(data2)"
      ],
      "execution_count": 6,
      "outputs": [
        {
          "output_type": "stream",
          "name": "stderr",
          "text": [
            "100%|██████████| 500/500 [03:40<00:00,  2.27it/s]"
          ]
        },
        {
          "output_type": "stream",
          "name": "stdout",
          "text": [
            "                                             iri  ...                                            Synonym\n",
            "0      http://purl.obolibrary.org/obo/DOID_13575  ...                                             [null]\n",
            "1       http://purl.obolibrary.org/obo/DOID_9754  ...                                             [null]\n",
            "2      http://purl.obolibrary.org/obo/DOID_11283  ...                                             [null]\n",
            "3      http://purl.obolibrary.org/obo/DOID_11129  ...                                             [null]\n",
            "4       http://purl.obolibrary.org/obo/DOID_8646  ...                                             [null]\n",
            "..                                           ...  ...                                                ...\n",
            "495    http://purl.obolibrary.org/obo/DOID_11547  ...                                [Deposits - cornea]\n",
            "496    http://purl.obolibrary.org/obo/DOID_11541  ...  [recurrent erosion of cornea, recurrent erosio...\n",
            "497  http://purl.obolibrary.org/obo/DOID_0080176  ...                                             [null]\n",
            "498    http://purl.obolibrary.org/obo/DOID_11552  ...                 [Bowman membrane folds or rupture]\n",
            "499    http://purl.obolibrary.org/obo/DOID_11561  ...                                             [null]\n",
            "\n",
            "[500 rows x 4 columns]\n"
          ]
        },
        {
          "output_type": "stream",
          "name": "stderr",
          "text": [
            "\n"
          ]
        }
      ]
    },
    {
      "cell_type": "markdown",
      "metadata": {
        "id": "y6anU2HEE3Lx"
      },
      "source": [
        "## **2.Generate two csv files**\n",
        "\n",
        "i) DOID to ICD9 code mappings \n",
        "\n",
        "ii) synonyms file containing the DOID column and Synonym column. "
      ]
    },
    {
      "cell_type": "code",
      "metadata": {
        "colab": {
          "base_uri": "https://localhost:8080/"
        },
        "id": "75MXL7nPBqI-",
        "outputId": "dbc8aa3c-b396-4c6e-c9d3-75204ef36dfd"
      },
      "source": [
        "df2_=df2[['iri','ICD9']]\n",
        "d_icd9=pd.merge(df1,df2_,on='iri').drop(['iri'],axis=1)\n",
        "d_sy=df2.drop(['ICD9','iri'],axis=1)\n",
        "#Tabel one DOID_ICD9\n",
        "d_icd9.to_csv('/content/sample_data/DOID_ICD9.csv', index=False)\n",
        "print('DOID_ICD9 features are {}'.format(doid_icd9.columns))\n",
        "d_sy.to_csv('/content/sample_data/DOID_Synonym.csv', index=False)\n",
        "print('DOID_Synonym features are {}'.format(d_sy.columns))"
      ],
      "execution_count": 33,
      "outputs": [
        {
          "output_type": "stream",
          "name": "stdout",
          "text": [
            "DOID_ICD9 features are Index(['DOID', 'label', 'ICD9'], dtype='object')\n",
            "DOID_Synonym features are Index(['DOID', 'Synonym'], dtype='object')\n"
          ]
        }
      ]
    },
    {
      "cell_type": "markdown",
      "metadata": {
        "id": "SbieUmJmBHwZ"
      },
      "source": [
        "## **3.Add two tables to the mimic database. Load the two csv files into these new tables**"
      ]
    },
    {
      "cell_type": "code",
      "metadata": {
        "id": "_xI6z4-4pYDS",
        "colab": {
          "base_uri": "https://localhost:8080/"
        },
        "outputId": "d4e46659-ae36-4619-e1d3-ed84f4f55625"
      },
      "source": [
        "from google.colab import drive\n",
        "drive.mount('/content/gdrive')"
      ],
      "execution_count": 2,
      "outputs": [
        {
          "output_type": "stream",
          "name": "stdout",
          "text": [
            "Drive already mounted at /content/gdrive; to attempt to forcibly remount, call drive.mount(\"/content/gdrive\", force_remount=True).\n"
          ]
        }
      ]
    },
    {
      "cell_type": "code",
      "metadata": {
        "id": "MnD02js8EAPA"
      },
      "source": [
        "CREATE TABLE Patients (\n",
        "    row_id int  NOT NULL,\n",
        "    subject_id int  NOT NULL,\n",
        "    gender varchar(5)  NOT NULL,\n",
        "    dob datetime  NOT NULL,\n",
        "    dod datetime  NOT NULL,\n",
        "    dod_hosp datetime  NULL,\n",
        "    dod_ssn datetime  NULL,\n",
        "    expire_flag varchar(5)  NOT NULL,\n",
        "    PRIMARY KEY (subject_id)\n",
        "  );\n",
        "\n",
        "CREATE TABLE Admissions (\n",
        "    row_id int  NOT NULL,\n",
        "    subject_id int  NOT NULL,\n",
        "    hadm_id int  NOT NULL,\n",
        "    admittime datetime  NOT NULL,\n",
        "    dischtime datetime  NOT NULL,\n",
        "    deathtime datetime   NULL,\n",
        "    admission_type varchar(50)  NOT NULL,\n",
        "    admission_location varchar(50)  NOT NULL,\n",
        "    discharge_location varchar(50)  NOT NULL,\n",
        "    insurance varchar(255)  NOT NULL,\n",
        "    language varchar(10)   NULL,\n",
        "    religion varchar(50)   NULL,\n",
        "    marital_status varchar(50)   NULL,\n",
        "    ethnicity varchar(200)  NOT NULL,\n",
        "    edregtime datetime   NULL,\n",
        "    edouttime datetime   NULL,\n",
        "    diagnosis varchar(300)  NOT NULL,\n",
        "    hospital_expire_flag int  NOT NULL,\n",
        "    has_chartevents_data int  NOT NULL,\n",
        "    PRIMARY KEY (hadm_id),\n",
        "    FOREIGN KEY (subject_id) REFERENCES Patients(subject_id)\n",
        "  );\n",
        "\n",
        "# insert code for creating D_icd_diagnoses \n",
        "CREATE TABLE D_icd_diagnoses (\n",
        "    row_id int  NOT NULL,\n",
        "    icd9_code varchar(10)  NOT NULL,\n",
        "    short_title varchar(50)  NOT NULL,\n",
        "    long_title varchar(300)  NOT NULL,\n",
        "    PRIMARY KEY (icd9_code)\n",
        "  );\n",
        "\n",
        "# Insert code for creating Diagnoses_icd tables\n",
        "CREATE TABLE Diagnoses_icd tables (\n",
        "    row_id int  NOT NULL,\n",
        "    subject_id int  NOT NULL,\n",
        "    ham_id int  NOT NULL,\n",
        "    seq_num int  NOT NULL,\n",
        "    icd9_code varchar(10)  NOT NULL\n",
        "    PRIMARY KEY (row_id),\n",
        "    FOREIGN KEY (icd9_code) REFERENCES D_icd_diagnoses(icd9_code),\n",
        "    FOREIGN KEY (subject_id) REFERENCES Patients(subject_id)\n",
        "\n",
        "  );\n",
        "\n",
        "# Insert code for creating DOID_ICD9 tables 'DOID':obidlist,'label': lablelist\n",
        "CREATE TABLE DOID_ICD9 tables (\n",
        "    DOID varchar(50)  NOT NULL,\n",
        "    label varchar(300)  NOT NULL\n",
        "    PRIMARY KEY (DOID)\n",
        "  );\n",
        "# Insert code for creating Diagnoses_icd tables 'DOID':doidlist,'ICD9': icdlist,'Synonym':synonymlist\n",
        "CREATE TABLE DOID_Synonym tables (\n",
        "    DOID varchar(50)  NOT NULL,\n",
        "    ICD9 varchar(50)  NOT NULL,\n",
        "    Synonym varchar(300)\n",
        "    PRIMARY KEY (DOID),\n",
        "    FOREIGN KEY (DOID) REFERENCES DOID_ICD9(DOID),\n",
        "    FOREIGN KEY (ICD9) REFERENCES D_icd_diagnoses(icd9_code)\n",
        "\n",
        "  );"
      ],
      "execution_count": null,
      "outputs": []
    },
    {
      "cell_type": "markdown",
      "metadata": {
        "id": "VUPmLtINElEt"
      },
      "source": [
        "## **4.SQL join query to retrieve patients with a certain diagnosis using its synonyms**"
      ]
    },
    {
      "cell_type": "code",
      "metadata": {
        "colab": {
          "base_uri": "https://localhost:8080/",
          "height": 153
        },
        "id": "dWTj8HvCYa3w",
        "outputId": "9335777b-ce8f-4fb4-8a24-3df3aea0a6d3"
      },
      "source": [
        "import pandas as pd\n",
        "import sqlite3\n",
        "from sqlite3 import Error\n",
        "from IPython.display import display\n",
        "\n",
        "\n",
        "\"\"\" create a database connection to a database that resides\n",
        "    in the drive\n",
        "\"\"\"\n",
        "path='/content/gdrive/My Drive/'\n",
        "conn = None;\n",
        "try:\n",
        "  conn = sqlite3.connect(':memory:')\n",
        "  #conn = sqlite3.connect(path+'mimic_demo.db')\n",
        "\n",
        "  cursor = conn.cursor()\n",
        "  #Doping tables if already exists.\n",
        "  cursor.execute(\"DROP TABLE IF EXISTS Patients\")\n",
        "  cursor.execute(\"DROP TABLE IF EXISTS Admissions\")\n",
        "  cursor.execute(\"DROP TABLE IF EXISTS Diagnoses_icd\")\n",
        "  cursor.execute(\"DROP TABLE IF EXISTS D_icd_diagnoses\")\n",
        "  cursor.execute(\"DROP TABLE IF EXISTS DOID_ICD9\")\n",
        "  cursor.execute(\"DROP TABLE IF EXISTS DOID_Synonym\")\n",
        "  #Creating tables\n",
        "  sql ='''CREATE TABLE Patients (\n",
        "    row_id int  NOT NULL,\n",
        "    subject_id int  NOT NULL,\n",
        "    gender varchar(5)  NOT NULL,\n",
        "    dob datetime  NOT NULL,\n",
        "    dod datetime  NOT NULL,\n",
        "    dod_hosp datetime  NULL,\n",
        "    dod_ssn datetime  NULL,\n",
        "    expire_flag varchar(5)  NOT NULL,\n",
        "    PRIMARY KEY (subject_id)\n",
        "  );'''\n",
        "  cursor.execute(sql)\n",
        "  sql ='''CREATE TABLE Admissions (\n",
        "    row_id int  NOT NULL,\n",
        "    subject_id int  NOT NULL,\n",
        "    hadm_id int  NOT NULL,\n",
        "    admittime datetime  NOT NULL,\n",
        "    dischtime datetime  NOT NULL,\n",
        "    deathtime datetime   NULL,\n",
        "    admission_type varchar(50)  NOT NULL,\n",
        "    admission_location varchar(50)  NOT NULL,\n",
        "    discharge_location varchar(50)  NOT NULL,\n",
        "    insurance varchar(255)  NOT NULL,\n",
        "    language varchar(10)   NULL,\n",
        "    religion varchar(50)   NULL,\n",
        "    marital_status varchar(50)   NULL,\n",
        "    ethnicity varchar(200)  NOT NULL,\n",
        "    edregtime datetime   NULL,\n",
        "    edouttime datetime   NULL,\n",
        "    diagnosis varchar(300)  NOT NULL,\n",
        "    hospital_expire_flag int  NOT NULL,\n",
        "    has_chartevents_data int  NOT NULL,\n",
        "    PRIMARY KEY (hadm_id),\n",
        "    FOREIGN KEY (subject_id) REFERENCES Patients(subject_id)\n",
        "  );'''\n",
        "  cursor.execute(sql)\n",
        "  #insert code to create D_icd_diagnoses table\n",
        "  sql='''CREATE TABLE D_icd_diagnoses (\n",
        "    row_id int  NOT NULL,\n",
        "    icd9_code varchar(10)  NOT NULL,\n",
        "    short_title varchar(50)  NOT NULL,\n",
        "    long_title varchar(300)  NOT NULL,\n",
        "    PRIMARY KEY (icd9_code)\n",
        "  );'''\n",
        "  cursor.execute(sql)\n",
        "  #insert code to create Diagnoses_icd table\n",
        "  sql='''\n",
        "   CREATE TABLE Diagnoses_icd tables (\n",
        "     row_id int  NOT NULL,\n",
        "     subject_id int  NOT NULL,\n",
        "     ham_id int  NOT NULL,\n",
        "     seq_num int  NOT NULL,\n",
        "     icd9_code varchar(10)  NOT NULL\n",
        "     PRIMARY KEY (row_id),\n",
        "     FOREIGN KEY (icd9_code) REFERENCES D_icd_diagnoses(subject_id),\n",
        "     FOREIGN KEY (subject_id) REFERENCES Patients(subject_id)\n",
        "   );'''\n",
        "\n",
        "   # Insert code for creating DOID_ICD9 tables 'DOID':obidlist,'label': lablelist\n",
        "  sql='''\n",
        "   CREATE TABLE DOID_ICD9 tables (\n",
        "    DOID varchar(50)  NOT NULL,\n",
        "    label varchar(300)  NOT NULL\n",
        "    PRIMARY KEY (DOID)\n",
        "  );'''\n",
        "# Insert code for creating Diagnoses_icd tables 'DOID':doidlist,'ICD9': icdlist,'Synonym':synonymlist\n",
        "  sql='''\n",
        "   CREATE TABLE DOID_Synonym tables (\n",
        "    DOID varchar(50)  NOT NULL,\n",
        "    ICD9 varchar(50)  NOT NULL,\n",
        "    Synonym varchar(300)\n",
        "    PRIMARY KEY (DOID),\n",
        "    FOREIGN KEY (DOID) REFERENCES DOID_ICD9(DOID),\n",
        "    FOREIGN KEY (ICD9) REFERENCES D_icd_diagnoses(icd9_code)\n",
        "  );'''\n",
        "\n",
        "\n",
        "\n",
        "  # cursor.execute(sql)\n",
        "\n",
        "\n",
        "  print(\"Table(s) created successfully........\")\n",
        "  #conn.commit()\n",
        "\n",
        "  #load the data from a csv file located in a directory (use your own directory into a Pandas DataFrame object\n",
        "  patients = pd.read_csv(path+'PATIENTS.csv')\n",
        "  admissions = pd.read_csv(path+'ADMISSIONS.csv')\n",
        "  D_icd_diagnoses = pd.read_csv(path+'D_ICD_DIAGNOSES.csv')\n",
        "  Diagnoses_icd = pd.read_csv(path+'DIAGNOSES_ICD.csv')\n",
        "  doid_icd9 = pd.read_csv(path+'DOID_ICD9.csv')\n",
        "  doid_synonym = pd.read_csv(path+'DOID_Synonym.csv')\n",
        "\n",
        "\n",
        "  #write the data to a sqlite table\n",
        "  patients.to_sql('Patients', conn, if_exists='replace', index = False)\n",
        "  admissions.to_sql('Admissions', conn, if_exists='replace', index = False)\n",
        "  D_icd_diagnoses.to_sql('D_icd_diagnoses', conn, if_exists='replace', index = False)\n",
        "  Diagnoses_icd.to_sql('Diagnoses_icd', conn, if_exists='replace', index = False)\n",
        "  doid_icd9.to_sql('DOID_ICD9', conn, if_exists='replace', index = False)\n",
        "  doid_synonym.to_sql('DOID_Synonym', conn, if_exists='replace', index = False)\n",
        "\n",
        "  #Commit your changes in the database\n",
        "  conn.commit()\n",
        " \n",
        " \n",
        "  sql='''SELECT distinct sy.DOID,ICD9,short_title,long_title,Synonym,p.subject_id,gender,admittime,deathtime,\n",
        "  admission_type,admission_location,discharge_location,insurance,language,religion,marital_status,ethnicity\n",
        "  FROM doid_synonym sy inner join doid_icd9 dicd9 on sy.DOID=dicd9.DOID\n",
        "  inner join D_icd_diagnoses D_icd on dicd9.ICD9=D_icd.icd9_code\n",
        "  inner join Diagnoses_icd D_i on D_icd.icd9_code=D_i.icd9_code\n",
        "  inner join Patients p on D_i.subject_id=p.subject_id \n",
        "  inner join Admissions a on a.subject_id=p.subject_id\n",
        "  where  Synonym LIKE '%rectum%'\n",
        "  '''\n",
        " \n",
        "  patients = pd.read_sql(sql, conn)\n",
        "  display (patients)\n",
        "  \n",
        "\n",
        "except Error as e:\n",
        "    print(e)\n",
        "finally:\n",
        "    if conn:\n",
        "        conn.close()\n"
      ],
      "execution_count": 30,
      "outputs": [
        {
          "output_type": "stream",
          "name": "stdout",
          "text": [
            "Table(s) created successfully........\n"
          ]
        },
        {
          "output_type": "display_data",
          "data": {
            "text/html": [
              "<div>\n",
              "<style scoped>\n",
              "    .dataframe tbody tr th:only-of-type {\n",
              "        vertical-align: middle;\n",
              "    }\n",
              "\n",
              "    .dataframe tbody tr th {\n",
              "        vertical-align: top;\n",
              "    }\n",
              "\n",
              "    .dataframe thead th {\n",
              "        text-align: right;\n",
              "    }\n",
              "</style>\n",
              "<table border=\"1\" class=\"dataframe\">\n",
              "  <thead>\n",
              "    <tr style=\"text-align: right;\">\n",
              "      <th></th>\n",
              "      <th>DOID</th>\n",
              "      <th>ICD9</th>\n",
              "      <th>short_title</th>\n",
              "      <th>long_title</th>\n",
              "      <th>Synonym</th>\n",
              "      <th>subject_id</th>\n",
              "      <th>gender</th>\n",
              "      <th>admittime</th>\n",
              "      <th>deathtime</th>\n",
              "      <th>admission_type</th>\n",
              "      <th>admission_location</th>\n",
              "      <th>discharge_location</th>\n",
              "      <th>insurance</th>\n",
              "      <th>language</th>\n",
              "      <th>religion</th>\n",
              "      <th>marital_status</th>\n",
              "      <th>ethnicity</th>\n",
              "    </tr>\n",
              "  </thead>\n",
              "  <tbody>\n",
              "    <tr>\n",
              "      <th>0</th>\n",
              "      <td>9307</td>\n",
              "      <td>5691</td>\n",
              "      <td>Rectal prolapse</td>\n",
              "      <td>Rectal prolapse</td>\n",
              "      <td>['Procidentia, rectum']</td>\n",
              "      <td>10027</td>\n",
              "      <td>F</td>\n",
              "      <td>2190-07-13 07:15:00</td>\n",
              "      <td>None</td>\n",
              "      <td>ELECTIVE</td>\n",
              "      <td>PHYS REFERRAL/NORMAL DELI</td>\n",
              "      <td>SNF</td>\n",
              "      <td>Medicare</td>\n",
              "      <td>None</td>\n",
              "      <td>CATHOLIC</td>\n",
              "      <td>MARRIED</td>\n",
              "      <td>WHITE</td>\n",
              "    </tr>\n",
              "  </tbody>\n",
              "</table>\n",
              "</div>"
            ],
            "text/plain": [
              "   DOID  ICD9      short_title  ...  religion marital_status  ethnicity\n",
              "0  9307  5691  Rectal prolapse  ...  CATHOLIC        MARRIED      WHITE\n",
              "\n",
              "[1 rows x 17 columns]"
            ]
          },
          "metadata": {}
        }
      ]
    }
  ]
}